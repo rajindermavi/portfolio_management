{
 "cells": [
  {
   "cell_type": "code",
   "execution_count": null,
   "metadata": {},
   "outputs": [],
   "source": [
    "from agents import agent_loss, CAPM_Agent, MVP_Agent, Uniform_Agent\r\n",
    "from trading_env.environment import TradingEnv\r\n",
    "\r\n",
    "import dill\r\n",
    "import matplotlib.pyplot as plt\r\n",
    "\r\n",
    "\r\n",
    "\r\n",
    "with open('test_data.dill','rb') as dill_file:\r\n",
    "    test_data = dill.load(dill_file)\r\n",
    "test_dates = test_data['dates']\r\n",
    "test_data = test_data['data']\r\n",
    "\r\n",
    "env = TradingEnv(test_data)\r\n",
    "\r\n",
    "n_stocks = env.n_stocks\r\n",
    "start = env._start_tick\r\n",
    "\r\n",
    "\r\n",
    "with open('dpm_agent.dill','rb') as dill_file:\r\n",
    "    dpm_agent = dill.load(dill_file)\r\n",
    "\r\n",
    "capm_agent = CAPM_Agent(n_stocks)\r\n",
    "mvp_agent = MVP_Agent(n_stocks)\r\n",
    "uniform_agent = Uniform_Agent(n_stocks)"
   ]
  }
 ],
 "metadata": {
  "interpreter": {
   "hash": "f6ecf0f4b7da91ff1ccddb66793d3b78ca4cd194ae4db75acbe588f9b304d562"
  },
  "kernelspec": {
   "display_name": "Python 3.9.4 64-bit ('portfolio': venv)",
   "name": "python3"
  },
  "language_info": {
   "name": "python",
   "version": ""
  },
  "orig_nbformat": 4
 },
 "nbformat": 4,
 "nbformat_minor": 2
}