{
 "cells": [
  {
   "cell_type": "code",
   "execution_count": 1,
   "metadata": {},
   "outputs": [],
   "source": [
    "from agents.dpm__agent import Agent, preprocess, test_reward\n",
    "from trading_env.environment import TradingEnv"
   ]
  },
  {
   "cell_type": "code",
   "execution_count": 2,
   "metadata": {},
   "outputs": [],
   "source": [
    "import dill\n",
    "import numpy as np\n",
    "import tensorflow as tf"
   ]
  },
  {
   "cell_type": "code",
   "execution_count": 3,
   "metadata": {},
   "outputs": [],
   "source": [
    "yf_file = \"./data/archive_data/yf_data.dill\"\n",
    "with open(yf_file,'rb') as dill_file:\n",
    "    yf_df = dill.load(dill_file)\n",
    "    "
   ]
  },
  {
   "cell_type": "code",
   "execution_count": 4,
   "metadata": {},
   "outputs": [],
   "source": [
    "symbols = yf_df['Symbol'].unique()\n",
    "stocks = []\n",
    "for symbol in symbols:\n",
    "    df = yf_df[yf_df['Symbol'] == symbol]\n",
    "    stocks.append(df.iloc[:,2:6].to_numpy())\n",
    "stocks = np.array(stocks)"
   ]
  },
  {
   "cell_type": "code",
   "execution_count": 5,
   "metadata": {},
   "outputs": [],
   "source": [
    "n_stocks = stocks.shape[0]\n",
    "window = 64\n",
    "n_stock_feats = stocks.shape[2]"
   ]
  },
  {
   "cell_type": "code",
   "execution_count": 6,
   "metadata": {},
   "outputs": [],
   "source": [
    "agent = Agent(n_stocks,n_stock_feats)"
   ]
  },
  {
   "cell_type": "code",
   "execution_count": 7,
   "metadata": {},
   "outputs": [
    {
     "output_type": "stream",
     "name": "stdout",
     "text": [
      "Untrained portfolio end value:\ntf.Tensor(1027114.3, shape=(), dtype=float32)\n"
     ]
    }
   ],
   "source": [
    "env = TradingEnv(stocks,training_size=0.1)\n",
    "obs = env.reset()\n",
    "done = False\n",
    "while not done:\n",
    "    action = agent.act(obs) \n",
    "    obs, reward, done, _ = env.step(action) \n",
    "print('Untrained portfolio end value:')\n",
    "print(env.portfolio_value_hist[-1])\n"
   ]
  },
  {
   "cell_type": "code",
   "execution_count": 8,
   "metadata": {},
   "outputs": [],
   "source": [
    "def loss_val():\n",
    "    total_loss = tf.convert_to_tensor(0.0)\n",
    "    env = TradingEnv(stocks,training_size=0.1)\n",
    "    obs = env.reset()\n",
    "    done = False\n",
    "    while not done:\n",
    "\n",
    "        action = agent.act(obs)\n",
    "        obs,reward,done,_=env.step(action)\n",
    "        total_loss -= reward\n",
    "\n",
    "    return total_loss, env\n",
    "\n"
   ]
  },
  {
   "cell_type": "code",
   "execution_count": 9,
   "metadata": {},
   "outputs": [
    {
     "output_type": "stream",
     "name": "stdout",
     "text": [
      "Portfolio value after n gradient ascent steps:\n",
      "tf.Tensor(1027114.3, shape=(), dtype=float32)\n",
      "tf.Tensor(1022618.1, shape=(), dtype=float32)\n",
      "tf.Tensor(1071041.5, shape=(), dtype=float32)\n",
      "tf.Tensor(1237350.4, shape=(), dtype=float32)\n",
      "tf.Tensor(1314853.1, shape=(), dtype=float32)\n",
      "tf.Tensor(1422374.4, shape=(), dtype=float32)\n"
     ]
    }
   ],
   "source": [
    "portfolio_time_series = []\n",
    "print('Portfolio value after n gradient ascent steps:')\n",
    "for _ in range(5):\n",
    "    with tf.GradientTape() as tape:\n",
    "        tape.watch(agent.model.trainable_variables)\n",
    "        loss, env = loss_val()\n",
    "    portfolio_time_series.append(env.portfolio_value_hist)\n",
    "    print(env.portfolio_value_hist[-1])\n",
    "    grad = tape.gradient(loss,agent.model.trainable_variables)\n",
    "    agent.opt.apply_gradients(zip(grad,agent.model.trainable_variables))\n",
    "loss, env = loss_val()\n",
    "print(env.portfolio_value_hist[-1])"
   ]
  },
  {
   "cell_type": "code",
   "execution_count": null,
   "metadata": {},
   "outputs": [],
   "source": []
  }
 ],
 "metadata": {
  "interpreter": {
   "hash": "3fd04f7af2b494cfcb6f7f88dc7e2e0996fcff442ebb77a6d3107b9d139ab71e"
  },
  "kernelspec": {
   "name": "python3",
   "display_name": "Python 3.8.5 64-bit ('base': conda)"
  },
  "language_info": {
   "codemirror_mode": {
    "name": "ipython",
    "version": 3
   },
   "file_extension": ".py",
   "mimetype": "text/x-python",
   "name": "python",
   "nbconvert_exporter": "python",
   "pygments_lexer": "ipython3",
   "version": "3.8.5"
  }
 },
 "nbformat": 4,
 "nbformat_minor": 2
}