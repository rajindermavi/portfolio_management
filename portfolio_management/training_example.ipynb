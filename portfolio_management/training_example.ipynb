{
 "cells": [
  {
   "cell_type": "code",
   "execution_count": null,
   "metadata": {},
   "outputs": [],
   "source": [
    "from agents.dpm__agent import Agent\n",
    "from trading_env.environment import TradingEnv"
   ]
  },
  {
   "cell_type": "code",
   "execution_count": null,
   "metadata": {},
   "outputs": [],
   "source": [
    "import dill\n",
    "import numpy as np\n",
    "import tensorflow as tf"
   ]
  },
  {
   "cell_type": "code",
   "execution_count": null,
   "metadata": {},
   "outputs": [],
   "source": [
    "yf_file = \"./data/archive_data/yf_data.dill\"\n",
    "with open(yf_file,'rb') as dill_file:\n",
    "    yf_df = dill.load(dill_file)\n",
    "    "
   ]
  },
  {
   "cell_type": "code",
   "execution_count": null,
   "metadata": {},
   "outputs": [],
   "source": [
    "symbols = yf_df['Symbol'].unique()\n",
    "stocks = []\n",
    "for symbol in symbols:\n",
    "    df = yf_df[yf_df['Symbol'] == symbol]\n",
    "    stocks.append(df.iloc[:,2:6].to_numpy())\n",
    "stocks = np.array(stocks)"
   ]
  },
  {
   "cell_type": "code",
   "execution_count": null,
   "metadata": {},
   "outputs": [],
   "source": [
    "# Batch the data\r\n",
    "div = list(map(int,np.linspace(0,5284,51)))\r\n",
    "batched_data = np.split(stocks,div[1:-1],axis=1)\r\n",
    "\r\n",
    "# Segment batches into training batches, 1 validation batch, 1 testing batch \r\n",
    "training_stock_data = batched_data[:-2]\r\n",
    "validation_stock_data = batched_data[-2]\r\n",
    "test_stock_data = batched_data[-1]\r\n",
    "\r\n"
   ]
  },
  {
   "cell_type": "code",
   "execution_count": null,
   "metadata": {},
   "outputs": [],
   "source": [
    "training_stock_data[0].shape"
   ]
  },
  {
   "cell_type": "code",
   "execution_count": null,
   "metadata": {},
   "outputs": [],
   "source": [
    "n_stocks = stocks.shape[0]\n",
    "window = 64\n",
    "n_stock_feats = stocks.shape[2]"
   ]
  },
  {
   "cell_type": "code",
   "execution_count": null,
   "metadata": {},
   "outputs": [],
   "source": [
    "agent = Agent(n_stocks,n_stock_feats)"
   ]
  },
  {
   "cell_type": "code",
   "execution_count": null,
   "metadata": {},
   "outputs": [],
   "source": [
    "env = TradingEnv(training_stock_data[0])\r\n",
    "obs = env.reset()\r\n",
    "done = False\r\n",
    "last_raw_action = tf.zeros((1,n_stocks+1))\r\n",
    "while not done:\r\n",
    "    raw_action = agent.act(obs,last_raw_action) \r\n",
    "    obs, reward, done, _ = env.step(agent.model.softmax_layer(raw_action))\r\n",
    "    last_raw_action = raw_action \r\n",
    "print('Untrained portfolio end value:')\r\n",
    "print(env.portfolio_value_hist[-1])\r\n"
   ]
  },
  {
   "cell_type": "code",
   "execution_count": null,
   "metadata": {},
   "outputs": [],
   "source": [
    "def loss_val(stock_data):\r\n",
    "    total_loss = tf.convert_to_tensor(0.0)\r\n",
    "    env = TradingEnv(stock_data)\r\n",
    "    obs = env.reset()\r\n",
    "    done = False\r\n",
    "    last_raw_action = tf.zeros((1,n_stocks+1))\r\n",
    "    while not done:\r\n",
    "\r\n",
    "        raw_action=agent.act(obs,last_raw_action)\r\n",
    "        obs,reward,done,_=env.step(agent.model.softmax_layer(raw_action))\r\n",
    "        last_raw_action=raw_action\r\n",
    "        total_loss-=reward\r\n",
    "\r\n",
    "    return total_loss, env\r\n",
    "\r\n"
   ]
  },
  {
   "cell_type": "code",
   "execution_count": null,
   "metadata": {},
   "outputs": [],
   "source": [
    "final_portfolio_values_validation_set = []\r\n",
    "final_portfolio_values_training_set = []\r\n",
    "\r\n",
    "for batch in training_stock_data:\r\n",
    "    # Train on each batch for several iterations\r\n",
    "    end_values_for_current_batch = []\r\n",
    "    # Find end value of portfolio before training on the batch\r\n",
    "    _,env = loss_val(batch)\r\n",
    "    end_values_for_current_batch.append(env.portfolio_value_hist[-1])\r\n",
    "\r\n",
    "    for _ in range(5):\r\n",
    "        # Evaluate pretraining performance on validation set and record final value:\r\n",
    "        _,env = loss_val(validation_stock_data)\r\n",
    "        print(env.portfolio_value_hist[-1])\r\n",
    "        final_portfolio_values_validation_set.append(env.portfolio_value_hist[-1])\r\n",
    "        # Train on current batch\r\n",
    "        with tf.GradientTape() as tape:\r\n",
    "            tape.watch(agent.model.trainable_variables)\r\n",
    "            loss, env = loss_val(batch)\r\n",
    "        # record final portfolio value\r\n",
    "        end_values_for_current_batch.append(env.portfolio_value_hist[-1])\r\n",
    "        grad = tape.gradient(loss,agent.model.trainable_variables)\r\n",
    "        grad = [g / tf.reduce_mean(tf.abs(g)) for g in grad]\r\n",
    "        #grad = [tf.clip_by_value(g,-1.5,1.5) for g in grad]\r\n",
    "        #for idx in range(len(grad)):\r\n",
    "        #    reduced_max = tf.reduce_max(tf.abs(grad[idx]))\r\n",
    "        #    grad[idx] = grad[idx]/reduced_max\r\n",
    "        agent.opt.apply_gradients(zip(grad,agent.model.trainable_variables))\r\n",
    "    \r\n",
    "    final_portfolio_values_training_set.append(end_values_for_current_batch)\r\n",
    "\r\n",
    "_, env = loss_val(validation_stock_data)\r\n",
    "final_portfolio_values_validation_set.append(env.portfolio_value_hist[-1])"
   ]
  },
  {
   "cell_type": "code",
   "execution_count": null,
   "metadata": {},
   "outputs": [],
   "source": [
    "final_portfolio_values_training_set"
   ]
  },
  {
   "cell_type": "code",
   "execution_count": null,
   "metadata": {},
   "outputs": [],
   "source": [
    "final_portfolio_values_validation_set"
   ]
  },
  {
   "cell_type": "code",
   "execution_count": null,
   "metadata": {},
   "outputs": [],
   "source": [
    "for g in grad:\r\n",
    "    print(tf.reduce_mean(tf.abs(g)))"
   ]
  },
  {
   "cell_type": "code",
   "execution_count": null,
   "metadata": {},
   "outputs": [],
   "source": [
    "agent.model.softmax_layer(agent.act(obs,tf.zeros((1,n_stocks+1))))"
   ]
  },
  {
   "cell_type": "code",
   "execution_count": null,
   "metadata": {},
   "outputs": [],
   "source": [
    "agent.act(obs,tf.zeros((1,n_stocks+1)))/tf.reduce_sum(agent.act(obs,tf.zeros((1,n_stocks+1))))"
   ]
  },
  {
   "cell_type": "code",
   "execution_count": null,
   "metadata": {},
   "outputs": [],
   "source": [
    "agent.model.trainable_variables"
   ]
  },
  {
   "cell_type": "code",
   "execution_count": null,
   "metadata": {},
   "outputs": [],
   "source": []
  }
 ],
 "metadata": {
  "interpreter": {
   "hash": "3fd04f7af2b494cfcb6f7f88dc7e2e0996fcff442ebb77a6d3107b9d139ab71e"
  },
  "kernelspec": {
   "display_name": "Python 3.8.5 64-bit ('base': conda)",
   "name": "python3"
  },
  "language_info": {
   "codemirror_mode": {
    "name": "ipython",
    "version": 3
   },
   "file_extension": ".py",
   "mimetype": "text/x-python",
   "name": "python",
   "nbconvert_exporter": "python",
   "pygments_lexer": "ipython3",
   "version": "3.8.5"
  }
 },
 "nbformat": 4,
 "nbformat_minor": 2
}