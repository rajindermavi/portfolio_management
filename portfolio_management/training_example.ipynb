{
 "cells": [
  {
   "cell_type": "code",
   "execution_count": 1,
   "metadata": {},
   "outputs": [],
   "source": [
    "from agents.dpm__agent import Agent\n",
    "from trading_env.environment import TradingEnv"
   ]
  },
  {
   "cell_type": "code",
   "execution_count": 2,
   "metadata": {},
   "outputs": [],
   "source": [
    "import dill\n",
    "import numpy as np\n",
    "import tensorflow as tf"
   ]
  },
  {
   "cell_type": "code",
   "execution_count": 3,
   "metadata": {},
   "outputs": [],
   "source": [
    "yf_file = \"./data/archive_data/yf_data.dill\"\n",
    "with open(yf_file,'rb') as dill_file:\n",
    "    yf_df = dill.load(dill_file)\n",
    "    "
   ]
  },
  {
   "cell_type": "code",
   "execution_count": 4,
   "metadata": {},
   "outputs": [],
   "source": [
    "symbols = yf_df['Symbol'].unique()\n",
    "stocks = []\n",
    "for symbol in symbols:\n",
    "    df = yf_df[yf_df['Symbol'] == symbol]\n",
    "    stocks.append(df.iloc[:,2:6].to_numpy())\n",
    "stocks = np.array(stocks)"
   ]
  },
  {
   "cell_type": "code",
   "execution_count": 5,
   "metadata": {},
   "outputs": [],
   "source": [
    "# Batch the data\r\n",
    "div = list(map(int,np.linspace(0,5284,11)))\r\n",
    "batched_data = np.split(stocks,div[1:-1],axis=1)\r\n",
    "\r\n",
    "# Segment batches into training batches, 1 validation batch, 1 testing batch \r\n",
    "training_stock_data = batched_data[:-2]\r\n",
    "validation_stock_data = batched_data[-2]\r\n",
    "test_stock_data = batched_data[-1]\r\n",
    "\r\n"
   ]
  },
  {
   "cell_type": "code",
   "execution_count": 6,
   "metadata": {},
   "outputs": [],
   "source": [
    "n_stocks = stocks.shape[0]\n",
    "window = 64\n",
    "n_stock_feats = stocks.shape[2]"
   ]
  },
  {
   "cell_type": "code",
   "execution_count": 7,
   "metadata": {},
   "outputs": [],
   "source": [
    "agent = Agent(n_stocks,n_stock_feats)"
   ]
  },
  {
   "cell_type": "code",
   "execution_count": null,
   "metadata": {},
   "outputs": [],
   "source": []
  },
  {
   "cell_type": "code",
   "execution_count": 8,
   "metadata": {},
   "outputs": [
    {
     "name": "stdout",
     "output_type": "stream",
     "text": [
      "Untrained portfolio end value:\n",
      "tf.Tensor(1024432.06, shape=(), dtype=float32)\n"
     ]
    }
   ],
   "source": [
    "env = TradingEnv(training_stock_data[0])\r\n",
    "obs = env.reset()\r\n",
    "done = False\r\n",
    "last_action = tf.zeros((1,n_stocks+1))\r\n",
    "while not done:\r\n",
    "    action = agent.act(obs,last_action) \r\n",
    "    obs, reward, done, _ = env.step(action)\r\n",
    "    last_action = action \r\n",
    "print('Untrained portfolio end value:')\r\n",
    "print(env.portfolio_value_hist[-1])\r\n"
   ]
  },
  {
   "cell_type": "code",
   "execution_count": 9,
   "metadata": {},
   "outputs": [],
   "source": [
    "def loss_val(stock_data):\r\n",
    "    total_loss = tf.convert_to_tensor(0.0)\r\n",
    "    env = TradingEnv(stock_data)\r\n",
    "    obs = env.reset()\r\n",
    "    done = False\r\n",
    "    last_action = tf.zeros((1,n_stocks+1))\r\n",
    "    while not done:\r\n",
    "\r\n",
    "        action=agent.act(obs,last_action)\r\n",
    "        obs,reward,done,_=env.step(action)\r\n",
    "        last_action=action\r\n",
    "        total_loss-=reward\r\n",
    "\r\n",
    "    return total_loss, env\r\n",
    "\r\n"
   ]
  },
  {
   "cell_type": "code",
   "execution_count": 10,
   "metadata": {},
   "outputs": [],
   "source": [
    "final_portfolio_values_validation_set = []\r\n",
    "final_portfolio_values_training_set = []\r\n",
    "\r\n",
    "for batch in training_stock_data:\r\n",
    "    # Evaluate pretraining performance on validation set and record final value:\r\n",
    "    _,env = loss_val(validation_stock_data)\r\n",
    "    final_portfolio_values_validation_set.append(env.portfolio_value_hist[-1])\r\n",
    "    # Train on current batch\r\n",
    "    with tf.GradientTape() as tape:\r\n",
    "        tape.watch(agent.model.trainable_variables)\r\n",
    "        loss, env = loss_val(batch)\r\n",
    "    # record final portfolio value\r\n",
    "    final_portfolio_values_training_set.append(env.portfolio_value_hist[-1])\r\n",
    "    grad = tape.gradient(loss,agent.model.trainable_variables)\r\n",
    "    agent.opt.apply_gradients(zip(grad,agent.model.trainable_variables))\r\n",
    "\r\n",
    "_, env = loss_val(validation_stock_data)\r\n",
    "final_portfolio_values_validation_set.append(env.portfolio_value_hist[-1])"
   ]
  },
  {
   "cell_type": "code",
   "execution_count": 11,
   "metadata": {},
   "outputs": [
    {
     "data": {
      "text/plain": [
       "[<tf.Tensor: shape=(), dtype=float32, numpy=1024432.06>,\n",
       " <tf.Tensor: shape=(), dtype=float32, numpy=1134769.6>,\n",
       " <tf.Tensor: shape=(), dtype=float32, numpy=1375342.4>,\n",
       " <tf.Tensor: shape=(), dtype=float32, numpy=1704820.1>,\n",
       " <tf.Tensor: shape=(), dtype=float32, numpy=941240.94>,\n",
       " <tf.Tensor: shape=(), dtype=float32, numpy=1401714.9>,\n",
       " <tf.Tensor: shape=(), dtype=float32, numpy=1264007.9>,\n",
       " <tf.Tensor: shape=(), dtype=float32, numpy=2517363.0>]"
      ]
     },
     "execution_count": 11,
     "metadata": {},
     "output_type": "execute_result"
    }
   ],
   "source": [
    "final_portfolio_values_training_set"
   ]
  },
  {
   "cell_type": "code",
   "execution_count": 12,
   "metadata": {},
   "outputs": [
    {
     "data": {
      "text/plain": [
       "[<tf.Tensor: shape=(), dtype=float32, numpy=1147479.4>,\n",
       " <tf.Tensor: shape=(), dtype=float32, numpy=1137141.0>,\n",
       " <tf.Tensor: shape=(), dtype=float32, numpy=1171535.6>,\n",
       " <tf.Tensor: shape=(), dtype=float32, numpy=1274916.4>,\n",
       " <tf.Tensor: shape=(), dtype=float32, numpy=1368940.0>,\n",
       " <tf.Tensor: shape=(), dtype=float32, numpy=1446460.6>,\n",
       " <tf.Tensor: shape=(), dtype=float32, numpy=1514675.0>,\n",
       " <tf.Tensor: shape=(), dtype=float32, numpy=1475885.0>,\n",
       " <tf.Tensor: shape=(), dtype=float32, numpy=1546953.6>]"
      ]
     },
     "execution_count": 12,
     "metadata": {},
     "output_type": "execute_result"
    }
   ],
   "source": [
    "final_portfolio_values_validation_set"
   ]
  },
  {
   "cell_type": "code",
   "execution_count": 13,
   "metadata": {},
   "outputs": [
    {
     "data": {
      "text/plain": [
       "[<tf.Tensor: shape=(1, 3, 4, 2), dtype=float32, numpy=\n",
       " array([[[[-0.05841961, -0.06230804],\n",
       "          [-0.05359459, -0.05709395],\n",
       "          [-0.05522793, -0.05856491],\n",
       "          [-0.05576876, -0.05954437]],\n",
       " \n",
       "         [[-0.06019116, -0.06434103],\n",
       "          [-0.05514999, -0.05921707],\n",
       "          [-0.05670406, -0.06068263],\n",
       "          [-0.05719268, -0.06119261]],\n",
       " \n",
       "         [[-0.06146988, -0.06585895],\n",
       "          [-0.05739947, -0.06123728],\n",
       "          [-0.05798244, -0.0621325 ],\n",
       "          [-0.05998799, -0.06377127]]]], dtype=float32)>,\n",
       " <tf.Tensor: shape=(2,), dtype=float32, numpy=array([-6.5459983e-07, -1.5492532e-07], dtype=float32)>,\n",
       " <tf.Tensor: shape=(1, 62, 2, 20), dtype=float32, numpy=\n",
       " array([[[[ 0.        ,  0.        ,  0.        , ..., -0.00145845,\n",
       "            0.        ,  0.        ],\n",
       "          [ 0.        ,  0.        ,  0.        , ..., -0.00271013,\n",
       "            0.        ,  0.        ]],\n",
       " \n",
       "         [[ 0.        ,  0.        ,  0.        , ..., -0.00096602,\n",
       "            0.        ,  0.        ],\n",
       "          [ 0.        ,  0.        ,  0.        , ..., -0.00184851,\n",
       "            0.        ,  0.        ]],\n",
       " \n",
       "         [[ 0.        ,  0.        ,  0.        , ..., -0.00068606,\n",
       "            0.        ,  0.        ],\n",
       "          [ 0.        ,  0.        ,  0.        , ..., -0.00153373,\n",
       "            0.        ,  0.        ]],\n",
       " \n",
       "         ...,\n",
       " \n",
       "         [[ 0.        ,  0.        ,  0.        , ..., -0.0074115 ,\n",
       "            0.        ,  0.        ],\n",
       "          [ 0.        ,  0.        ,  0.        , ..., -0.01208572,\n",
       "            0.        ,  0.        ]],\n",
       " \n",
       "         [[ 0.        ,  0.        ,  0.        , ..., -0.0069559 ,\n",
       "            0.        ,  0.        ],\n",
       "          [ 0.        ,  0.        ,  0.        , ..., -0.01145513,\n",
       "            0.        ,  0.        ]],\n",
       " \n",
       "         [[ 0.        ,  0.        ,  0.        , ..., -0.00775915,\n",
       "            0.        ,  0.        ],\n",
       "          [ 0.        ,  0.        ,  0.        , ..., -0.01257756,\n",
       "            0.        ,  0.        ]]]], dtype=float32)>,\n",
       " <tf.Tensor: shape=(20,), dtype=float32, numpy=\n",
       " array([ 0.0000000e+00,  0.0000000e+00,  0.0000000e+00, -1.7270061e-08,\n",
       "         0.0000000e+00, -2.5491989e-08, -1.6755976e-08, -3.2615951e-08,\n",
       "        -1.2432659e-08,  0.0000000e+00, -1.0438587e-08,  0.0000000e+00,\n",
       "         0.0000000e+00,  0.0000000e+00,  0.0000000e+00,  0.0000000e+00,\n",
       "         0.0000000e+00, -2.3918286e-08,  0.0000000e+00,  0.0000000e+00],\n",
       "       dtype=float32)>,\n",
       " <tf.Tensor: shape=(1, 1, 20, 1), dtype=float32, numpy=\n",
       " array([[[[ 0.        ],\n",
       "          [ 0.        ],\n",
       "          [ 0.        ],\n",
       "          [-0.08860583],\n",
       "          [ 0.        ],\n",
       "          [-0.09577051],\n",
       "          [-0.09262387],\n",
       "          [-0.09220341],\n",
       "          [-0.09924952],\n",
       "          [ 0.        ],\n",
       "          [-0.10001908],\n",
       "          [ 0.        ],\n",
       "          [ 0.        ],\n",
       "          [ 0.        ],\n",
       "          [ 0.        ],\n",
       "          [ 0.        ],\n",
       "          [ 0.        ],\n",
       "          [-0.09384508],\n",
       "          [ 0.        ],\n",
       "          [ 0.        ]]]], dtype=float32)>,\n",
       " <tf.Tensor: shape=(1,), dtype=float32, numpy=array([-5.018424e-08], dtype=float32)>,\n",
       " <tf.Tensor: shape=(), dtype=float32, numpy=-0.2152766>,\n",
       " <tf.Tensor: shape=(), dtype=float32, numpy=-0.03045254>]"
      ]
     },
     "execution_count": 13,
     "metadata": {},
     "output_type": "execute_result"
    }
   ],
   "source": [
    "grad"
   ]
  },
  {
   "cell_type": "code",
   "execution_count": null,
   "metadata": {},
   "outputs": [],
   "source": []
  }
 ],
 "metadata": {
  "interpreter": {
   "hash": "3fd04f7af2b494cfcb6f7f88dc7e2e0996fcff442ebb77a6d3107b9d139ab71e"
  },
  "kernelspec": {
   "display_name": "Python 3.8.5 64-bit ('base': conda)",
   "name": "python3"
  },
  "language_info": {
   "name": "python",
   "version": ""
  }
 },
 "nbformat": 4,
 "nbformat_minor": 2
}