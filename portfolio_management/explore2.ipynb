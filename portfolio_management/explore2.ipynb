{
 "metadata": {
  "language_info": {
   "codemirror_mode": {
    "name": "ipython",
    "version": 3
   },
   "file_extension": ".py",
   "mimetype": "text/x-python",
   "name": "python",
   "nbconvert_exporter": "python",
   "pygments_lexer": "ipython3",
   "version": "3.8.5"
  },
  "orig_nbformat": 2,
  "kernelspec": {
   "name": "python385jvsc74a57bd03fd04f7af2b494cfcb6f7f88dc7e2e0996fcff442ebb77a6d3107b9d139ab71e",
   "display_name": "Python 3.8.5 64-bit ('base': conda)"
  }
 },
 "nbformat": 4,
 "nbformat_minor": 2,
 "cells": [
  {
   "cell_type": "code",
   "execution_count": 1,
   "metadata": {},
   "outputs": [],
   "source": [
    "from agents.dpm_ppo import Agent, preprocess\n",
    "from trading_env.environment import TradingEnv"
   ]
  },
  {
   "cell_type": "code",
   "execution_count": 2,
   "metadata": {},
   "outputs": [],
   "source": [
    "import dill\n",
    "import numpy as np"
   ]
  },
  {
   "cell_type": "code",
   "execution_count": 3,
   "metadata": {},
   "outputs": [],
   "source": [
    "yf_file = \"./data/archive_data/yf_data.dill\"\n",
    "with open(yf_file,'rb') as dill_file:\n",
    "    yf_df = dill.load(dill_file)\n",
    "    "
   ]
  },
  {
   "cell_type": "code",
   "execution_count": 4,
   "metadata": {},
   "outputs": [],
   "source": [
    "symbols = yf_df['Symbol'].unique()\n",
    "stocks = []\n",
    "for symbol in symbols:\n",
    "    df = yf_df[yf_df['Symbol'] == symbol]\n",
    "    stocks.append(df.iloc[:,2:6].to_numpy())\n",
    "stocks = np.array(stocks)"
   ]
  },
  {
   "cell_type": "code",
   "execution_count": 5,
   "metadata": {},
   "outputs": [],
   "source": [
    "n_stocks = stocks.shape[0]\n",
    "window = 64\n",
    "n_stock_feats = stocks.shape[2]"
   ]
  },
  {
   "cell_type": "code",
   "execution_count": 6,
   "metadata": {},
   "outputs": [],
   "source": [
    "agent = Agent(n_stocks,n_stock_feats)"
   ]
  },
  {
   "cell_type": "code",
   "execution_count": 7,
   "metadata": {},
   "outputs": [],
   "source": [
    "env = TradingEnv(stocks)\n",
    "obs = env.reset()"
   ]
  },
  {
   "cell_type": "code",
   "execution_count": 8,
   "metadata": {},
   "outputs": [
    {
     "output_type": "execute_result",
     "data": {
      "text/plain": [
       "(21, 64, 4)"
      ]
     },
     "metadata": {},
     "execution_count": 8
    }
   ],
   "source": [
    "obs.shape"
   ]
  },
  {
   "cell_type": "code",
   "execution_count": 9,
   "metadata": {},
   "outputs": [
    {
     "output_type": "execute_result",
     "data": {
      "text/plain": [
       "<tf.Tensor: shape=(1, 22), dtype=float32, numpy=\n",
       "array([[0.07272587, 0.04423793, 0.04411047, 0.04415678, 0.04446036,\n",
       "        0.04411047, 0.04411047, 0.04411047, 0.04411047, 0.04437022,\n",
       "        0.04411047, 0.04420298, 0.04411047, 0.04418852, 0.04411047,\n",
       "        0.04411047, 0.04411047, 0.04411047, 0.04411047, 0.04411047,\n",
       "        0.04411047, 0.04411047]], dtype=float32)>"
      ]
     },
     "metadata": {},
     "execution_count": 9
    }
   ],
   "source": [
    "agent.actor(np.array([obs]))"
   ]
  },
  {
   "cell_type": "code",
   "execution_count": 10,
   "metadata": {},
   "outputs": [
    {
     "output_type": "execute_result",
     "data": {
      "text/plain": [
       "array([[0.07272587, 0.04423793, 0.04411047, 0.04415678, 0.04446036,\n",
       "        0.04411047, 0.04411047, 0.04411047, 0.04411047, 0.04437022,\n",
       "        0.04411047, 0.04420298, 0.04411047, 0.04418852, 0.04411047,\n",
       "        0.04411047, 0.04411047, 0.04411047, 0.04411047, 0.04411047,\n",
       "        0.04411047, 0.04411047]], dtype=float32)"
      ]
     },
     "metadata": {},
     "execution_count": 10
    }
   ],
   "source": [
    "x = np.array([obs])\n",
    "agent.act(obs)"
   ]
  },
  {
   "cell_type": "code",
   "execution_count": 11,
   "metadata": {},
   "outputs": [],
   "source": [
    "all_aloss = []\n",
    "all_closs = []\n",
    "rewards = []\n",
    "states = []\n",
    "actions = []\n",
    "probs = []\n",
    "dones = []\n",
    "values = []"
   ]
  },
  {
   "cell_type": "code",
   "execution_count": 12,
   "metadata": {},
   "outputs": [],
   "source": [
    "for e in range(128):\n",
    "   \n",
    "    action = agent.act(obs)\n",
    "    value = agent.critic(np.array([obs])).numpy()\n",
    "    next_state, reward, done, _ = env.step(action)\n",
    "    dones.append(1-done)\n",
    "    rewards.append(reward)\n",
    "    states.append(obs)\n",
    "    #actions.append(tf.one_hot(action, 2, dtype=tf.int32).numpy().tolist())\n",
    "    actions.append(action)\n",
    "    prob = agent.actor(np.array([obs]))\n",
    "    probs.append(prob[0])\n",
    "    values.append(value[0][0])\n",
    "    obs = next_state\n",
    "    if done:\n",
    "      env.reset()"
   ]
  },
  {
   "cell_type": "code",
   "execution_count": 13,
   "metadata": {},
   "outputs": [],
   "source": [
    "value = agent.critic(np.array([obs])).numpy()\n",
    "values.append(value[0][0])\n",
    "np.reshape(probs, (len(probs),22))\n",
    "probs = np.stack(probs, axis=0)"
   ]
  },
  {
   "cell_type": "code",
   "execution_count": 14,
   "metadata": {},
   "outputs": [
    {
     "output_type": "execute_result",
     "data": {
      "text/plain": [
       "(128, 22)"
      ]
     },
     "metadata": {},
     "execution_count": 14
    }
   ],
   "source": [
    "np.array(probs).shape"
   ]
  },
  {
   "cell_type": "code",
   "execution_count": 15,
   "metadata": {},
   "outputs": [],
   "source": [
    "states, actions,returns, adv  = preprocess(states, actions, rewards, dones, values, 1)"
   ]
  },
  {
   "cell_type": "code",
   "execution_count": 16,
   "metadata": {},
   "outputs": [],
   "source": [
    "for epocs in range(10):\n",
    "      al,cl = agent.learn(states, actions, adv, probs, returns)"
   ]
  },
  {
   "cell_type": "code",
   "execution_count": 17,
   "metadata": {},
   "outputs": [
    {
     "output_type": "stream",
     "name": "stdout",
     "text": [
      "(128, 21, 64, 4)\n(128, 1, 22)\n(128,)\n(128, 22)\n(128,)\n"
     ]
    }
   ],
   "source": [
    "print(states.shape)\n",
    "print(actions.shape)\n",
    "print(adv.shape)\n",
    "print(probs.shape)\n",
    "print(returns.shape)"
   ]
  },
  {
   "cell_type": "code",
   "execution_count": 18,
   "metadata": {},
   "outputs": [
    {
     "output_type": "execute_result",
     "data": {
      "text/plain": [
       "<tf.Tensor: shape=(1, 22), dtype=float32, numpy=\n",
       "array([[0.07279531, 0.04415259, 0.04415259, 0.04415259, 0.04415259,\n",
       "        0.04415259, 0.04415259, 0.04415259, 0.04415259, 0.04415259,\n",
       "        0.04415259, 0.04415259, 0.04415259, 0.04415259, 0.04415259,\n",
       "        0.04415259, 0.04415259, 0.04415259, 0.04415259, 0.04415259,\n",
       "        0.04415259, 0.04415259]], dtype=float32)>"
      ]
     },
     "metadata": {},
     "execution_count": 18
    }
   ],
   "source": [
    "agent.actor(np.array([states[0]]))"
   ]
  },
  {
   "cell_type": "code",
   "execution_count": 19,
   "metadata": {},
   "outputs": [
    {
     "output_type": "execute_result",
     "data": {
      "text/plain": [
       "(21, 64, 4)"
      ]
     },
     "metadata": {},
     "execution_count": 19
    }
   ],
   "source": [
    "states[0].shape"
   ]
  },
  {
   "cell_type": "code",
   "execution_count": 20,
   "metadata": {},
   "outputs": [
    {
     "output_type": "execute_result",
     "data": {
      "text/plain": [
       "(1, 21, 64, 4)"
      ]
     },
     "metadata": {},
     "execution_count": 20
    }
   ],
   "source": [
    "np.array([states[0]]).shape"
   ]
  },
  {
   "cell_type": "code",
   "execution_count": null,
   "metadata": {},
   "outputs": [],
   "source": []
  }
 ]
}