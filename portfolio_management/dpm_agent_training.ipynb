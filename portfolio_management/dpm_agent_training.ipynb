{
 "cells": [
  {
   "cell_type": "code",
   "execution_count": 1,
   "source": [
    "from agents import DPM_Agent, agent_loss\r\n",
    "from trading_env.environment import TradingEnv"
   ],
   "outputs": [],
   "metadata": {}
  },
  {
   "cell_type": "code",
   "execution_count": 2,
   "source": [
    "import dill\r\n",
    "import random\r\n",
    "import numpy as np\r\n",
    "import tensorflow as tf\r\n",
    "import matplotlib.pyplot as plt"
   ],
   "outputs": [],
   "metadata": {}
  },
  {
   "cell_type": "code",
   "execution_count": 3,
   "source": [
    "yf_file = \"./data/archive_data/yf_data.dill\"\r\n",
    "with open(yf_file,'rb') as dill_file:\r\n",
    "    yf_df = dill.load(dill_file)\r\n",
    "    "
   ],
   "outputs": [],
   "metadata": {}
  },
  {
   "cell_type": "code",
   "execution_count": 4,
   "source": [
    "print('Head of data set:')\r\n",
    "yf_df.head()"
   ],
   "outputs": [
    {
     "output_type": "stream",
     "name": "stdout",
     "text": [
      "Head of data set:\n"
     ]
    },
    {
     "output_type": "execute_result",
     "data": {
      "text/plain": [
       "        Date Symbol      high       low      open     close     volume  \\\n",
       "0 2000-01-03   AAPL  1.004464  0.907924  0.936384  0.999442  535796800   \n",
       "1 2000-01-04   AAPL  0.987723  0.903460  0.966518  0.915179  512377600   \n",
       "2 2000-01-05   AAPL  0.987165  0.919643  0.926339  0.928571  778321600   \n",
       "3 2000-01-06   AAPL  0.955357  0.848214  0.947545  0.848214  767972800   \n",
       "4 2000-01-07   AAPL  0.901786  0.852679  0.861607  0.888393  460734400   \n",
       "\n",
       "   adjclose  \n",
       "0  0.859423  \n",
       "1  0.786965  \n",
       "2  0.798481  \n",
       "3  0.729382  \n",
       "4  0.763932  "
      ],
      "text/html": [
       "<div>\n",
       "<style scoped>\n",
       "    .dataframe tbody tr th:only-of-type {\n",
       "        vertical-align: middle;\n",
       "    }\n",
       "\n",
       "    .dataframe tbody tr th {\n",
       "        vertical-align: top;\n",
       "    }\n",
       "\n",
       "    .dataframe thead th {\n",
       "        text-align: right;\n",
       "    }\n",
       "</style>\n",
       "<table border=\"1\" class=\"dataframe\">\n",
       "  <thead>\n",
       "    <tr style=\"text-align: right;\">\n",
       "      <th></th>\n",
       "      <th>Date</th>\n",
       "      <th>Symbol</th>\n",
       "      <th>high</th>\n",
       "      <th>low</th>\n",
       "      <th>open</th>\n",
       "      <th>close</th>\n",
       "      <th>volume</th>\n",
       "      <th>adjclose</th>\n",
       "    </tr>\n",
       "  </thead>\n",
       "  <tbody>\n",
       "    <tr>\n",
       "      <th>0</th>\n",
       "      <td>2000-01-03</td>\n",
       "      <td>AAPL</td>\n",
       "      <td>1.004464</td>\n",
       "      <td>0.907924</td>\n",
       "      <td>0.936384</td>\n",
       "      <td>0.999442</td>\n",
       "      <td>535796800</td>\n",
       "      <td>0.859423</td>\n",
       "    </tr>\n",
       "    <tr>\n",
       "      <th>1</th>\n",
       "      <td>2000-01-04</td>\n",
       "      <td>AAPL</td>\n",
       "      <td>0.987723</td>\n",
       "      <td>0.903460</td>\n",
       "      <td>0.966518</td>\n",
       "      <td>0.915179</td>\n",
       "      <td>512377600</td>\n",
       "      <td>0.786965</td>\n",
       "    </tr>\n",
       "    <tr>\n",
       "      <th>2</th>\n",
       "      <td>2000-01-05</td>\n",
       "      <td>AAPL</td>\n",
       "      <td>0.987165</td>\n",
       "      <td>0.919643</td>\n",
       "      <td>0.926339</td>\n",
       "      <td>0.928571</td>\n",
       "      <td>778321600</td>\n",
       "      <td>0.798481</td>\n",
       "    </tr>\n",
       "    <tr>\n",
       "      <th>3</th>\n",
       "      <td>2000-01-06</td>\n",
       "      <td>AAPL</td>\n",
       "      <td>0.955357</td>\n",
       "      <td>0.848214</td>\n",
       "      <td>0.947545</td>\n",
       "      <td>0.848214</td>\n",
       "      <td>767972800</td>\n",
       "      <td>0.729382</td>\n",
       "    </tr>\n",
       "    <tr>\n",
       "      <th>4</th>\n",
       "      <td>2000-01-07</td>\n",
       "      <td>AAPL</td>\n",
       "      <td>0.901786</td>\n",
       "      <td>0.852679</td>\n",
       "      <td>0.861607</td>\n",
       "      <td>0.888393</td>\n",
       "      <td>460734400</td>\n",
       "      <td>0.763932</td>\n",
       "    </tr>\n",
       "  </tbody>\n",
       "</table>\n",
       "</div>"
      ]
     },
     "metadata": {},
     "execution_count": 4
    }
   ],
   "metadata": {}
  },
  {
   "cell_type": "code",
   "execution_count": 5,
   "source": [
    "print('Tail of data set:')\r\n",
    "yf_df.tail()"
   ],
   "outputs": [
    {
     "output_type": "stream",
     "name": "stdout",
     "text": [
      "Tail of data set:\n"
     ]
    },
    {
     "output_type": "execute_result",
     "data": {
      "text/plain": [
       "             Date Symbol        high         low        open       close  \\\n",
       "190219 2020-12-24    WMT  144.389999  143.179993  143.539993  143.500000   \n",
       "190220 2020-12-28    WMT  145.300003  143.330002  144.039993  145.220001   \n",
       "190221 2020-12-29    WMT  145.850006  143.589996  145.639999  144.300003   \n",
       "190222 2020-12-30    WMT  145.149994  143.940002  144.880005  144.179993   \n",
       "190223 2020-12-31    WMT  144.270004  142.850006  144.199997  144.149994   \n",
       "\n",
       "         volume    adjclose  \n",
       "190219  3018200  142.344345  \n",
       "190220  6448300  144.050491  \n",
       "190221  5979400  143.137909  \n",
       "190222  6250400  143.018860  \n",
       "190223  5938000  142.989090  "
      ],
      "text/html": [
       "<div>\n",
       "<style scoped>\n",
       "    .dataframe tbody tr th:only-of-type {\n",
       "        vertical-align: middle;\n",
       "    }\n",
       "\n",
       "    .dataframe tbody tr th {\n",
       "        vertical-align: top;\n",
       "    }\n",
       "\n",
       "    .dataframe thead th {\n",
       "        text-align: right;\n",
       "    }\n",
       "</style>\n",
       "<table border=\"1\" class=\"dataframe\">\n",
       "  <thead>\n",
       "    <tr style=\"text-align: right;\">\n",
       "      <th></th>\n",
       "      <th>Date</th>\n",
       "      <th>Symbol</th>\n",
       "      <th>high</th>\n",
       "      <th>low</th>\n",
       "      <th>open</th>\n",
       "      <th>close</th>\n",
       "      <th>volume</th>\n",
       "      <th>adjclose</th>\n",
       "    </tr>\n",
       "  </thead>\n",
       "  <tbody>\n",
       "    <tr>\n",
       "      <th>190219</th>\n",
       "      <td>2020-12-24</td>\n",
       "      <td>WMT</td>\n",
       "      <td>144.389999</td>\n",
       "      <td>143.179993</td>\n",
       "      <td>143.539993</td>\n",
       "      <td>143.500000</td>\n",
       "      <td>3018200</td>\n",
       "      <td>142.344345</td>\n",
       "    </tr>\n",
       "    <tr>\n",
       "      <th>190220</th>\n",
       "      <td>2020-12-28</td>\n",
       "      <td>WMT</td>\n",
       "      <td>145.300003</td>\n",
       "      <td>143.330002</td>\n",
       "      <td>144.039993</td>\n",
       "      <td>145.220001</td>\n",
       "      <td>6448300</td>\n",
       "      <td>144.050491</td>\n",
       "    </tr>\n",
       "    <tr>\n",
       "      <th>190221</th>\n",
       "      <td>2020-12-29</td>\n",
       "      <td>WMT</td>\n",
       "      <td>145.850006</td>\n",
       "      <td>143.589996</td>\n",
       "      <td>145.639999</td>\n",
       "      <td>144.300003</td>\n",
       "      <td>5979400</td>\n",
       "      <td>143.137909</td>\n",
       "    </tr>\n",
       "    <tr>\n",
       "      <th>190222</th>\n",
       "      <td>2020-12-30</td>\n",
       "      <td>WMT</td>\n",
       "      <td>145.149994</td>\n",
       "      <td>143.940002</td>\n",
       "      <td>144.880005</td>\n",
       "      <td>144.179993</td>\n",
       "      <td>6250400</td>\n",
       "      <td>143.018860</td>\n",
       "    </tr>\n",
       "    <tr>\n",
       "      <th>190223</th>\n",
       "      <td>2020-12-31</td>\n",
       "      <td>WMT</td>\n",
       "      <td>144.270004</td>\n",
       "      <td>142.850006</td>\n",
       "      <td>144.199997</td>\n",
       "      <td>144.149994</td>\n",
       "      <td>5938000</td>\n",
       "      <td>142.989090</td>\n",
       "    </tr>\n",
       "  </tbody>\n",
       "</table>\n",
       "</div>"
      ]
     },
     "metadata": {},
     "execution_count": 5
    }
   ],
   "metadata": {}
  },
  {
   "cell_type": "markdown",
   "source": [
    "## Split data into training, validation, and test sets"
   ],
   "metadata": {}
  },
  {
   "cell_type": "code",
   "execution_count": 6,
   "source": [
    "# Generate array of symbols in the yf dataframe\r\n",
    "symbols = yf_df['Symbol'].unique()\r\n",
    "\r\n",
    "# Create date masks to partition data \r\n",
    "training_start = '2000-1-1'\r\n",
    "training_end = '2018-12-31'\r\n",
    "training_mask = (yf_df['Date'] >= training_start) & (yf_df['Date'] <= training_end) \r\n",
    "validation_start = '2019-1-1'\r\n",
    "validation_end = '2019-12-31'\r\n",
    "validation_mask = (yf_df['Date'] >= validation_start) & (yf_df['Date'] <= validation_end) \r\n",
    "test_start = '2020-1-1'\r\n",
    "test_end = '2020-12-31'\r\n",
    "test_mask = (yf_df['Date'] >= test_start) & (yf_df['Date'] <= test_end)\r\n",
    "\r\n",
    "# Select stock data for each symbol,\r\n",
    "# partition into training, validation, or test set\r\n",
    "training_data = [yf_df[(yf_df['Symbol'] == symbol) & training_mask] for symbol in symbols]\r\n",
    "validation_data = [yf_df[(yf_df['Symbol'] == symbol) & validation_mask] for symbol in symbols]\r\n",
    "test_data = [yf_df[(yf_df['Symbol'] == symbol) & test_mask] for symbol in symbols]\r\n",
    "  \r\n",
    "validation_dates = validation_data[0]['Date']\r\n",
    "test_dates = test_data[0]['Date']\r\n",
    "\r\n",
    "# Select only high, low, open, and close prices for each stock\r\n",
    "training_data = np.array([df.iloc[:,2:6].to_numpy() for df in training_data])\r\n",
    "validation_data = np.array([df.iloc[:,2:6].to_numpy() for df in validation_data])\r\n",
    "test_data = np.array([df.iloc[:,2:6].to_numpy() for df in test_data])\r\n",
    "\r\n",
    "# Save the test data for post traning\r\n",
    "with open('test_data.dill','wb') as dill_file:\r\n",
    "    dill.dump({'dates':test_dates,'data':test_data},dill_file)"
   ],
   "outputs": [],
   "metadata": {}
  },
  {
   "cell_type": "markdown",
   "source": [
    "## Batch the data\r\n",
    "\r\n",
    "The training data covers 19 years of trading -- begining of 2000 to the end of 2018. We will partition the trading data into 40 batches. Note there are approximately 253 trading days per year, so there are approximately 253*19/40 ~ 120 trading days per batch. The batches provide data for each training episode for the agent. The agent does not trade over the first 64 days (the agent uses intial data to inform trading) so each training episode contains ~ 56 steps."
   ],
   "metadata": {}
  },
  {
   "cell_type": "code",
   "execution_count": 7,
   "source": [
    "# Batch the data\r\n",
    "n_batches = 40\r\n",
    "data_len = training_data.shape[1]\r\n",
    "div = list(map(int,np.linspace(0,data_len,n_batches+1)))\r\n",
    "batched_training_data = np.split(training_data,div[1:-1],axis=1)\r\n"
   ],
   "outputs": [],
   "metadata": {}
  },
  {
   "cell_type": "code",
   "execution_count": 8,
   "source": [
    "# Create environment\r\n",
    "validation_env = TradingEnv(validation_data)\r\n",
    "# get dimensions of data\r\n",
    "n_stocks = validation_env.n_stocks\r\n",
    "n_stock_feats = validation_env.n_stock_feats\r\n",
    "start_idx = validation_env._start_tick\r\n",
    "# Create DPM agent\r\n",
    "agent = DPM_Agent(n_stocks,n_stock_feats)"
   ],
   "outputs": [],
   "metadata": {}
  },
  {
   "cell_type": "markdown",
   "source": [
    "## Untrained agent\r\n",
    "\r\n",
    "Without training the agent is selecting a portfolio at random (actually the randomly initialized parameters are selecting a portfolio). We will view its performance on the validation set."
   ],
   "metadata": {}
  },
  {
   "cell_type": "code",
   "execution_count": 9,
   "source": [
    "# Simulate untrained agent to view baseline\r\n",
    "loss = agent_loss(validation_env,agent)\r\n",
    "plt.figure(figsize=(8,8))\r\n",
    "plt.plot(validation_dates[start_idx:], validation_env.portfolio_value_hist)\r\n",
    "plt.xticks(rotation=45)\r\n",
    "plt.title('Agent performance on validation under no training.')\r\n",
    "plt.show()\r\n",
    "portfolio_vals = validation_env.portfolio_value_hist\r\n",
    "print('Initial value of portfolio: ',portfolio_vals[0].numpy())\r\n",
    "print('Final value of portfolio: ',portfolio_vals[-1].numpy())\r\n",
    "print('Maximum value of portfolio: ',max(portfolio_vals).numpy())\r\n",
    "print('Minimum value of portfolio: ',min(portfolio_vals).numpy())"
   ],
   "outputs": [
    {
     "output_type": "display_data",
     "data": {
      "text/plain": [
       "<Figure size 576x576 with 1 Axes>"
      ],
      "image/png": "[encoded data removed]"
     },
     "metadata": {
      "needs_background": "light"
     }
    },
    {
     "output_type": "stream",
     "name": "stdout",
     "text": [
      "Initial value of portfolio:  1000000.0\n",
      "Final value of portfolio:  1123039.4\n",
      "Maximum value of portfolio:  1126010.4\n",
      "Minimum value of portfolio:  944776.9\n"
     ]
    }
   ],
   "metadata": {}
  },
  {
   "cell_type": "markdown",
   "source": [
    "## Agent training"
   ],
   "metadata": {}
  },
  {
   "cell_type": "code",
   "execution_count": 10,
   "source": [
    "\r\n",
    "EPOCHS = 250\r\n",
    "n_substocks = 10\r\n",
    "print('Final portfolio log gains after n epochs:')\r\n",
    "for epoch in range(EPOCHS):\r\n",
    "    training_losses = []\r\n",
    "    for batch in batched_training_data:\r\n",
    "        subsample = random.sample(list(range(n_stocks)),n_substocks)\r\n",
    "        sub_batch = batch[subsample,:,:]\r\n",
    "\r\n",
    "        # Create new environment for current batch\r\n",
    "        env = TradingEnv(sub_batch)\r\n",
    "\r\n",
    "        # Train on current batch\r\n",
    "        with tf.GradientTape() as tape:\r\n",
    "            tape.watch(agent.model.trainable_variables)\r\n",
    "            loss = agent_loss(env,agent)\r\n",
    "        grad = tape.gradient(loss,agent.model.trainable_variables)\r\n",
    "        grad = [g / tf.reduce_mean(tf.abs(g)) for g in grad]\r\n",
    "        agent.opt.apply_gradients(zip(grad,agent.model.trainable_variables))\r\n",
    "        training_losses.append(loss)\r\n",
    "\r\n",
    "    # Evaluate performance on validation set for a subset of epochs:\r\n",
    "    if (epoch < 10) or ((epoch+1) % 10 == 0):\r\n",
    "        loss = agent_loss(validation_env,agent)\r\n",
    "        train_avg_gain = -np.mean(training_losses)/(env._end_tick-env._start_tick)\r\n",
    "        val_avg_gain = -loss/(validation_env._end_tick-validation_env._start_tick)\r\n",
    "        print(f'After {epoch+1} training epochs: ')\r\n",
    "        print(f'Mean avg daily gain (batch training): {train_avg_gain:.5f}. Avg daily gain (validation): {val_avg_gain:.5f}.')\r\n",
    "\r\n",
    "\r\n",
    "plt.figure(figsize=(8,8))\r\n",
    "plt.plot(validation_dates[start_idx:], validation_env.portfolio_value_hist)\r\n",
    "plt.xticks(rotation=45)\r\n",
    "plt.title(f'Agent performance on validation set after {EPOCHS} training epochs.')\r\n",
    "plt.show()\r\n",
    "print('Initial value of portfolio: ',validation_env.portfolio_value_hist[0].numpy())\r\n",
    "print('Final value of portfolio: ',validation_env.portfolio_value_hist[-1].numpy())\r\n",
    "print('Maximum value of portfolio: ',max(validation_env.portfolio_value_hist).numpy())\r\n",
    "print('Minimum value of portfolio: ',min(validation_env.portfolio_value_hist).numpy())"
   ],
   "outputs": [
    {
     "output_type": "stream",
     "name": "stdout",
     "text": [
      "Final portfolio log gains after n epochs:\n",
      "After 1 training epochs: \n",
      "Mean avg daily gain (batch training): 0.00004. Avg daily gain (validation): 0.00073.\n",
      "After 2 training epochs: \n",
      "Mean avg daily gain (batch training): 0.00022. Avg daily gain (validation): 0.00064.\n",
      "After 3 training epochs: \n",
      "Mean avg daily gain (batch training): 0.00044. Avg daily gain (validation): 0.00065.\n",
      "After 4 training epochs: \n",
      "Mean avg daily gain (batch training): 0.00031. Avg daily gain (validation): 0.00065.\n",
      "After 5 training epochs: \n",
      "Mean avg daily gain (batch training): 0.00038. Avg daily gain (validation): 0.00073.\n",
      "After 6 training epochs: \n",
      "Mean avg daily gain (batch training): 0.00046. Avg daily gain (validation): 0.00089.\n",
      "After 7 training epochs: \n",
      "Mean avg daily gain (batch training): 0.00027. Avg daily gain (validation): 0.00084.\n",
      "After 8 training epochs: \n",
      "Mean avg daily gain (batch training): 0.00043. Avg daily gain (validation): 0.00069.\n",
      "After 9 training epochs: \n",
      "Mean avg daily gain (batch training): 0.00025. Avg daily gain (validation): 0.00094.\n",
      "After 10 training epochs: \n",
      "Mean avg daily gain (batch training): 0.00011. Avg daily gain (validation): 0.00065.\n",
      "After 20 training epochs: \n",
      "Mean avg daily gain (batch training): 0.00008. Avg daily gain (validation): 0.00084.\n",
      "After 30 training epochs: \n",
      "Mean avg daily gain (batch training): 0.00085. Avg daily gain (validation): 0.00080.\n",
      "After 40 training epochs: \n",
      "Mean avg daily gain (batch training): 0.00031. Avg daily gain (validation): 0.00079.\n",
      "After 50 training epochs: \n",
      "Mean avg daily gain (batch training): 0.00090. Avg daily gain (validation): 0.00079.\n",
      "After 60 training epochs: \n",
      "Mean avg daily gain (batch training): 0.00035. Avg daily gain (validation): 0.00079.\n",
      "After 70 training epochs: \n",
      "Mean avg daily gain (batch training): 0.00044. Avg daily gain (validation): 0.00079.\n",
      "After 80 training epochs: \n",
      "Mean avg daily gain (batch training): 0.00055. Avg daily gain (validation): 0.00080.\n",
      "After 90 training epochs: \n",
      "Mean avg daily gain (batch training): 0.00058. Avg daily gain (validation): 0.00080.\n",
      "After 100 training epochs: \n",
      "Mean avg daily gain (batch training): 0.00011. Avg daily gain (validation): 0.00080.\n",
      "After 110 training epochs: \n",
      "Mean avg daily gain (batch training): 0.00016. Avg daily gain (validation): 0.00080.\n",
      "After 120 training epochs: \n",
      "Mean avg daily gain (batch training): 0.00070. Avg daily gain (validation): 0.00080.\n",
      "After 130 training epochs: \n",
      "Mean avg daily gain (batch training): 0.00035. Avg daily gain (validation): 0.00079.\n",
      "After 140 training epochs: \n",
      "Mean avg daily gain (batch training): 0.00064. Avg daily gain (validation): 0.00079.\n",
      "After 150 training epochs: \n",
      "Mean avg daily gain (batch training): 0.00049. Avg daily gain (validation): 0.00078.\n",
      "After 160 training epochs: \n",
      "Mean avg daily gain (batch training): 0.00044. Avg daily gain (validation): 0.00079.\n",
      "After 170 training epochs: \n",
      "Mean avg daily gain (batch training): 0.00027. Avg daily gain (validation): 0.00078.\n",
      "After 180 training epochs: \n",
      "Mean avg daily gain (batch training): 0.00059. Avg daily gain (validation): 0.00078.\n",
      "After 190 training epochs: \n",
      "Mean avg daily gain (batch training): 0.00088. Avg daily gain (validation): 0.00078.\n",
      "After 200 training epochs: \n",
      "Mean avg daily gain (batch training): 0.00044. Avg daily gain (validation): 0.00078.\n",
      "After 210 training epochs: \n",
      "Mean avg daily gain (batch training): 0.00032. Avg daily gain (validation): 0.00078.\n",
      "After 220 training epochs: \n",
      "Mean avg daily gain (batch training): 0.00067. Avg daily gain (validation): 0.00077.\n",
      "After 230 training epochs: \n",
      "Mean avg daily gain (batch training): 0.00005. Avg daily gain (validation): 0.00078.\n",
      "After 240 training epochs: \n",
      "Mean avg daily gain (batch training): 0.00019. Avg daily gain (validation): 0.00078.\n",
      "After 250 training epochs: \n",
      "Mean avg daily gain (batch training): 0.00027. Avg daily gain (validation): 0.00078.\n"
     ]
    },
    {
     "output_type": "display_data",
     "data": {
      "text/plain": [
       "<Figure size 576x576 with 1 Axes>"
      ],
      "image/png": "[encoded data removed]"
     },
     "metadata": {
      "needs_background": "light"
     }
    },
    {
     "output_type": "stream",
     "name": "stdout",
     "text": [
      "Initial value of portfolio:  1000000.0\n",
      "Final value of portfolio:  1157278.4\n",
      "Maximum value of portfolio:  1159109.2\n",
      "Minimum value of portfolio:  944562.94\n"
     ]
    }
   ],
   "metadata": {}
  },
  {
   "cell_type": "markdown",
   "source": [
    "In the above output, note that the training batches are randomized every epoch. The purpose for this is to temper the possibility of overfitting to a single overperforming or underperforming stock. However, as a result the output performance on training batches is noisy. The validation set remains constant through each epoch. \r\n",
    "\r\n",
    "Finally we will save the agent for comparison to other investment strategies."
   ],
   "metadata": {}
  },
  {
   "cell_type": "code",
   "execution_count": 11,
   "source": [
    "with open('dpm_agent.dill','wb') as dill_file:\r\n",
    "    dill.dump(agent, dill_file)"
   ],
   "outputs": [],
   "metadata": {}
  },
  {
   "cell_type": "code",
   "execution_count": null,
   "source": [],
   "outputs": [],
   "metadata": {}
  }
 ],
 "metadata": {
  "interpreter": {
   "hash": "f6ecf0f4b7da91ff1ccddb66793d3b78ca4cd194ae4db75acbe588f9b304d562"
  },
  "kernelspec": {
   "display_name": "Python 3.9.4 64-bit ('portfolio': venv)",
   "name": "python3"
  },
  "language_info": {
   "codemirror_mode": {
    "name": "ipython",
    "version": 3
   },
   "file_extension": ".py",
   "mimetype": "text/x-python",
   "name": "python",
   "nbconvert_exporter": "python",
   "pygments_lexer": "ipython3",
   "version": "3.9.4"
  }
 },
 "nbformat": 4,
 "nbformat_minor": 2
}