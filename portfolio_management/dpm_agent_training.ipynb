{
 "cells": [
  {
   "cell_type": "code",
   "execution_count": 1,
   "metadata": {},
   "outputs": [],
   "source": [
    "from agents import DPM_Agent, agent_loss\r\n",
    "from trading_env.environment import TradingEnv"
   ]
  },
  {
   "cell_type": "code",
   "execution_count": 2,
   "metadata": {},
   "outputs": [],
   "source": [
    "import dill\r\n",
    "import numpy as np\r\n",
    "import tensorflow as tf\r\n",
    "import matplotlib.pyplot as plt"
   ]
  },
  {
   "cell_type": "code",
   "execution_count": 3,
   "metadata": {},
   "outputs": [],
   "source": [
    "yf_file = \"./data/archive_data/yf_data.dill\"\n",
    "with open(yf_file,'rb') as dill_file:\n",
    "    yf_df = dill.load(dill_file)\n",
    "    "
   ]
  },
  {
   "cell_type": "code",
   "execution_count": 4,
   "metadata": {},
   "outputs": [
    {
     "name": "stdout",
     "output_type": "stream",
     "text": [
      "Head of data set:\n"
     ]
    },
    {
     "data": {
      "text/html": [
       "<div>\n",
       "<style scoped>\n",
       "    .dataframe tbody tr th:only-of-type {\n",
       "        vertical-align: middle;\n",
       "    }\n",
       "\n",
       "    .dataframe tbody tr th {\n",
       "        vertical-align: top;\n",
       "    }\n",
       "\n",
       "    .dataframe thead th {\n",
       "        text-align: right;\n",
       "    }\n",
       "</style>\n",
       "<table border=\"1\" class=\"dataframe\">\n",
       "  <thead>\n",
       "    <tr style=\"text-align: right;\">\n",
       "      <th></th>\n",
       "      <th>Date</th>\n",
       "      <th>Symbol</th>\n",
       "      <th>high</th>\n",
       "      <th>low</th>\n",
       "      <th>open</th>\n",
       "      <th>close</th>\n",
       "      <th>volume</th>\n",
       "      <th>adjclose</th>\n",
       "    </tr>\n",
       "  </thead>\n",
       "  <tbody>\n",
       "    <tr>\n",
       "      <th>0</th>\n",
       "      <td>2000-01-03</td>\n",
       "      <td>AAPL</td>\n",
       "      <td>1.004464</td>\n",
       "      <td>0.907924</td>\n",
       "      <td>0.936384</td>\n",
       "      <td>0.999442</td>\n",
       "      <td>535796800</td>\n",
       "      <td>0.859423</td>\n",
       "    </tr>\n",
       "    <tr>\n",
       "      <th>1</th>\n",
       "      <td>2000-01-04</td>\n",
       "      <td>AAPL</td>\n",
       "      <td>0.987723</td>\n",
       "      <td>0.903460</td>\n",
       "      <td>0.966518</td>\n",
       "      <td>0.915179</td>\n",
       "      <td>512377600</td>\n",
       "      <td>0.786965</td>\n",
       "    </tr>\n",
       "    <tr>\n",
       "      <th>2</th>\n",
       "      <td>2000-01-05</td>\n",
       "      <td>AAPL</td>\n",
       "      <td>0.987165</td>\n",
       "      <td>0.919643</td>\n",
       "      <td>0.926339</td>\n",
       "      <td>0.928571</td>\n",
       "      <td>778321600</td>\n",
       "      <td>0.798481</td>\n",
       "    </tr>\n",
       "    <tr>\n",
       "      <th>3</th>\n",
       "      <td>2000-01-06</td>\n",
       "      <td>AAPL</td>\n",
       "      <td>0.955357</td>\n",
       "      <td>0.848214</td>\n",
       "      <td>0.947545</td>\n",
       "      <td>0.848214</td>\n",
       "      <td>767972800</td>\n",
       "      <td>0.729382</td>\n",
       "    </tr>\n",
       "    <tr>\n",
       "      <th>4</th>\n",
       "      <td>2000-01-07</td>\n",
       "      <td>AAPL</td>\n",
       "      <td>0.901786</td>\n",
       "      <td>0.852679</td>\n",
       "      <td>0.861607</td>\n",
       "      <td>0.888393</td>\n",
       "      <td>460734400</td>\n",
       "      <td>0.763932</td>\n",
       "    </tr>\n",
       "  </tbody>\n",
       "</table>\n",
       "</div>"
      ],
      "text/plain": [
       "        Date Symbol      high       low      open     close     volume  \\\n",
       "0 2000-01-03   AAPL  1.004464  0.907924  0.936384  0.999442  535796800   \n",
       "1 2000-01-04   AAPL  0.987723  0.903460  0.966518  0.915179  512377600   \n",
       "2 2000-01-05   AAPL  0.987165  0.919643  0.926339  0.928571  778321600   \n",
       "3 2000-01-06   AAPL  0.955357  0.848214  0.947545  0.848214  767972800   \n",
       "4 2000-01-07   AAPL  0.901786  0.852679  0.861607  0.888393  460734400   \n",
       "\n",
       "   adjclose  \n",
       "0  0.859423  \n",
       "1  0.786965  \n",
       "2  0.798481  \n",
       "3  0.729382  \n",
       "4  0.763932  "
      ]
     },
     "execution_count": 4,
     "metadata": {},
     "output_type": "execute_result"
    }
   ],
   "source": [
    "print('Head of data set:')\r\n",
    "yf_df.head()"
   ]
  },
  {
   "cell_type": "code",
   "execution_count": 5,
   "metadata": {},
   "outputs": [
    {
     "name": "stdout",
     "output_type": "stream",
     "text": [
      "Tail of data set:\n"
     ]
    },
    {
     "data": {
      "text/html": [
       "<div>\n",
       "<style scoped>\n",
       "    .dataframe tbody tr th:only-of-type {\n",
       "        vertical-align: middle;\n",
       "    }\n",
       "\n",
       "    .dataframe tbody tr th {\n",
       "        vertical-align: top;\n",
       "    }\n",
       "\n",
       "    .dataframe thead th {\n",
       "        text-align: right;\n",
       "    }\n",
       "</style>\n",
       "<table border=\"1\" class=\"dataframe\">\n",
       "  <thead>\n",
       "    <tr style=\"text-align: right;\">\n",
       "      <th></th>\n",
       "      <th>Date</th>\n",
       "      <th>Symbol</th>\n",
       "      <th>high</th>\n",
       "      <th>low</th>\n",
       "      <th>open</th>\n",
       "      <th>close</th>\n",
       "      <th>volume</th>\n",
       "      <th>adjclose</th>\n",
       "    </tr>\n",
       "  </thead>\n",
       "  <tbody>\n",
       "    <tr>\n",
       "      <th>190219</th>\n",
       "      <td>2020-12-24</td>\n",
       "      <td>WMT</td>\n",
       "      <td>144.389999</td>\n",
       "      <td>143.179993</td>\n",
       "      <td>143.539993</td>\n",
       "      <td>143.500000</td>\n",
       "      <td>3018200</td>\n",
       "      <td>142.344345</td>\n",
       "    </tr>\n",
       "    <tr>\n",
       "      <th>190220</th>\n",
       "      <td>2020-12-28</td>\n",
       "      <td>WMT</td>\n",
       "      <td>145.300003</td>\n",
       "      <td>143.330002</td>\n",
       "      <td>144.039993</td>\n",
       "      <td>145.220001</td>\n",
       "      <td>6448300</td>\n",
       "      <td>144.050491</td>\n",
       "    </tr>\n",
       "    <tr>\n",
       "      <th>190221</th>\n",
       "      <td>2020-12-29</td>\n",
       "      <td>WMT</td>\n",
       "      <td>145.850006</td>\n",
       "      <td>143.589996</td>\n",
       "      <td>145.639999</td>\n",
       "      <td>144.300003</td>\n",
       "      <td>5979400</td>\n",
       "      <td>143.137909</td>\n",
       "    </tr>\n",
       "    <tr>\n",
       "      <th>190222</th>\n",
       "      <td>2020-12-30</td>\n",
       "      <td>WMT</td>\n",
       "      <td>145.149994</td>\n",
       "      <td>143.940002</td>\n",
       "      <td>144.880005</td>\n",
       "      <td>144.179993</td>\n",
       "      <td>6250400</td>\n",
       "      <td>143.018860</td>\n",
       "    </tr>\n",
       "    <tr>\n",
       "      <th>190223</th>\n",
       "      <td>2020-12-31</td>\n",
       "      <td>WMT</td>\n",
       "      <td>144.270004</td>\n",
       "      <td>142.850006</td>\n",
       "      <td>144.199997</td>\n",
       "      <td>144.149994</td>\n",
       "      <td>5938000</td>\n",
       "      <td>142.989090</td>\n",
       "    </tr>\n",
       "  </tbody>\n",
       "</table>\n",
       "</div>"
      ],
      "text/plain": [
       "             Date Symbol        high         low        open       close  \\\n",
       "190219 2020-12-24    WMT  144.389999  143.179993  143.539993  143.500000   \n",
       "190220 2020-12-28    WMT  145.300003  143.330002  144.039993  145.220001   \n",
       "190221 2020-12-29    WMT  145.850006  143.589996  145.639999  144.300003   \n",
       "190222 2020-12-30    WMT  145.149994  143.940002  144.880005  144.179993   \n",
       "190223 2020-12-31    WMT  144.270004  142.850006  144.199997  144.149994   \n",
       "\n",
       "         volume    adjclose  \n",
       "190219  3018200  142.344345  \n",
       "190220  6448300  144.050491  \n",
       "190221  5979400  143.137909  \n",
       "190222  6250400  143.018860  \n",
       "190223  5938000  142.989090  "
      ]
     },
     "execution_count": 5,
     "metadata": {},
     "output_type": "execute_result"
    }
   ],
   "source": [
    "print('Tail of data set:')\r\n",
    "yf_df.tail()"
   ]
  },
  {
   "cell_type": "code",
   "execution_count": 6,
   "metadata": {},
   "outputs": [],
   "source": [
    "# Generate array of symbols in the yf dataframe\r\n",
    "symbols = yf_df['Symbol'].unique()\r\n",
    "\r\n",
    "# Create date masks to partition data \r\n",
    "training_start = '2000-1-1'\r\n",
    "training_end = '2016-12-31'\r\n",
    "training_mask = (yf_df['Date'] >= training_start) & (yf_df['Date'] <= training_end) \r\n",
    "validation_start = '2017-1-1'\r\n",
    "validation_end = '2018-12-31'\r\n",
    "validation_mask = (yf_df['Date'] >= validation_start) & (yf_df['Date'] <= validation_end) \r\n",
    "test_start = '2019-1-1'\r\n",
    "test_end = '2020-12-31'\r\n",
    "test_mask = (yf_df['Date'] >= test_start) & (yf_df['Date'] <= test_end)\r\n",
    "\r\n",
    "# Select stock data for each symbol,\r\n",
    "# partition into training, validation, or test set\r\n",
    "training_data = [yf_df[(yf_df['Symbol'] == symbol) & training_mask] for symbol in symbols]\r\n",
    "validation_data = [yf_df[(yf_df['Symbol'] == symbol) & validation_mask] for symbol in symbols]\r\n",
    "test_data = [yf_df[(yf_df['Symbol'] == symbol) & test_mask] for symbol in symbols]\r\n",
    "  \r\n",
    "validation_dates = validation_data[0]['Date']\r\n",
    "test_dates = test_data[0]['Date']\r\n",
    "\r\n",
    "# Select only high, low, open, and close prices for each stock\r\n",
    "training_data = np.array([df.iloc[:,2:6].to_numpy() for df in training_data])\r\n",
    "validation_data = np.array([df.iloc[:,2:6].to_numpy() for df in validation_data])\r\n",
    "test_data = np.array([df.iloc[:,2:6].to_numpy() for df in test_data])\r\n",
    "\r\n",
    "# Save the test data for post traning\r\n",
    "with open('test_data.dill','wb') as dill_file:\r\n",
    "    dill.dump({'dates':test_dates,'data':test_data},dill_file)"
   ]
  },
  {
   "cell_type": "code",
   "execution_count": 7,
   "metadata": {},
   "outputs": [],
   "source": [
    "# Batch the data\r\n",
    "data_len = training_data.shape[1]\r\n",
    "div = list(map(int,np.linspace(0,data_len,41)))\r\n",
    "batched_training_data = np.split(training_data,div[1:-1],axis=1)\r\n"
   ]
  },
  {
   "cell_type": "code",
   "execution_count": 8,
   "metadata": {},
   "outputs": [],
   "source": [
    "# Create DPM agent for training\r\n",
    "n_stocks = training_data.shape[0]\r\n",
    "n_stock_feats = training_data.shape[2]\r\n",
    "\r\n",
    "agent = DPM_Agent(n_stocks,n_stock_feats)"
   ]
  },
  {
   "cell_type": "code",
   "execution_count": 9,
   "metadata": {},
   "outputs": [
    {
     "data": {
      "image/png": "[encoded data removed]",
      "text/plain": [
       "<Figure size 576x576 with 1 Axes>"
      ]
     },
     "metadata": {
      "needs_background": "light"
     },
     "output_type": "display_data"
    },
    {
     "name": "stdout",
     "output_type": "stream",
     "text": [
      "Initial value of portfolio:  1000000.0\n",
      "Final value of portfolio:  1133605.0\n",
      "Maximum value of portfolio:  1344593.0\n",
      "Minimum value of portfolio:  983839.5\n"
     ]
    }
   ],
   "source": [
    "validation_env = TradingEnv(validation_data)\r\n",
    "loss = agent_loss(validation_env,agent,n_stocks)\r\n",
    "plt.figure(figsize=(8,8))\r\n",
    "plt.plot(validation_dates[63:], validation_env.portfolio_value_hist)\r\n",
    "plt.xticks(rotation=45)\r\n",
    "plt.title('Agent performance on validation under no training.')\r\n",
    "plt.show()\r\n",
    "print('Initial value of portfolio: ',validation_env.portfolio_value_hist[0].numpy())\r\n",
    "print('Final value of portfolio: ',validation_env.portfolio_value_hist[-1].numpy())\r\n",
    "print('Maximum value of portfolio: ',max(validation_env.portfolio_value_hist).numpy())\r\n",
    "print('Minimum value of portfolio: ',min(validation_env.portfolio_value_hist).numpy())"
   ]
  },
  {
   "cell_type": "code",
   "execution_count": 10,
   "metadata": {},
   "outputs": [
    {
     "name": "stdout",
     "output_type": "stream",
     "text": [
      "Final portfolio value on the validation set:\n",
      "After 1 training epochs:  1179971.1\n",
      "After 2 training epochs:  1192858.9\n",
      "After 3 training epochs:  1164607.5\n",
      "After 4 training epochs:  1165228.1\n",
      "After 5 training epochs:  1165240.0\n",
      "After 6 training epochs:  1165425.8\n",
      "After 7 training epochs:  1165980.5\n",
      "After 8 training epochs:  1166137.5\n",
      "After 9 training epochs:  1166079.4\n",
      "After 10 training epochs:  1165389.1\n",
      "After 11 training epochs:  1164850.8\n",
      "After 12 training epochs:  1163949.4\n",
      "After 13 training epochs:  1162847.4\n",
      "After 14 training epochs:  1162183.2\n",
      "After 15 training epochs:  1161325.2\n",
      "After 16 training epochs:  1160316.8\n",
      "After 17 training epochs:  1160274.4\n",
      "After 18 training epochs:  1159773.4\n",
      "After 19 training epochs:  1158673.4\n",
      "After 20 training epochs:  1156247.1\n",
      "After 21 training epochs:  1155200.8\n",
      "After 22 training epochs:  1154549.2\n",
      "After 23 training epochs:  1154047.0\n",
      "After 24 training epochs:  1152837.5\n",
      "After 25 training epochs:  1152517.4\n",
      "After 26 training epochs:  1151722.5\n",
      "After 27 training epochs:  1151462.1\n",
      "After 28 training epochs:  1151228.5\n",
      "After 29 training epochs:  1150973.4\n",
      "After 30 training epochs:  1150664.9\n",
      "After 31 training epochs:  1150411.6\n",
      "After 32 training epochs:  1150157.6\n",
      "After 33 training epochs:  1149894.9\n",
      "After 34 training epochs:  1149635.0\n",
      "After 35 training epochs:  1149334.5\n",
      "After 36 training epochs:  1149065.1\n",
      "After 37 training epochs:  1148816.5\n",
      "After 38 training epochs:  1148516.0\n",
      "After 39 training epochs:  1148239.6\n",
      "After 40 training epochs:  1147957.8\n",
      "After 41 training epochs:  1147645.5\n",
      "After 42 training epochs:  1147355.8\n",
      "After 43 training epochs:  1147020.6\n",
      "After 44 training epochs:  1146738.2\n",
      "After 45 training epochs:  1146447.4\n",
      "After 46 training epochs:  1146174.5\n",
      "After 47 training epochs:  1145907.1\n",
      "After 48 training epochs:  1145587.0\n",
      "After 49 training epochs:  1145326.2\n",
      "After 50 training epochs:  1145057.1\n"
     ]
    },
    {
     "data": {
      "image/png": "[encoded data removed]",
      "text/plain": [
       "<Figure size 576x576 with 1 Axes>"
      ]
     },
     "metadata": {
      "needs_background": "light"
     },
     "output_type": "display_data"
    },
    {
     "name": "stdout",
     "output_type": "stream",
     "text": [
      "Initial value of portfolio:  1000000.0\n",
      "Final value of portfolio:  1145057.1\n",
      "Maximum value of portfolio:  1630767.9\n",
      "Minimum value of portfolio:  983410.44\n"
     ]
    }
   ],
   "source": [
    "\r\n",
    "EPOCHS = 50\r\n",
    "print('Final portfolio value on the validation set:')\r\n",
    "for epoch in range(EPOCHS):\r\n",
    "\r\n",
    "    for batch in batched_training_data:\r\n",
    "        # Create new environment for current batch\r\n",
    "        env = TradingEnv(batch)\r\n",
    "\r\n",
    "        # Train on current batch\r\n",
    "        with tf.GradientTape() as tape:\r\n",
    "            tape.watch(agent.model.trainable_variables)\r\n",
    "            loss = agent_loss(env,agent,n_stocks)\r\n",
    "        grad = tape.gradient(loss,agent.model.trainable_variables)\r\n",
    "        grad = [g / tf.reduce_mean(tf.abs(g)) for g in grad]\r\n",
    "        agent.opt.apply_gradients(zip(grad,agent.model.trainable_variables))\r\n",
    "\r\n",
    "    # Evaluate performance on validation set:\r\n",
    "    loss = agent_loss(validation_env,agent,n_stocks)\r\n",
    "    print(f'After {epoch+1} training epochs: ',validation_env.portfolio_value_hist[-1].numpy())\r\n",
    "\r\n",
    "    if epoch < EPOCHS/2:\r\n",
    "        for x in agent.model.trainable_variables:\r\n",
    "            y = x+tf.random.normal(x.shape,stddev=1e-3)\r\n",
    "            x.assign(y)\r\n",
    "\r\n",
    "plt.figure(figsize=(8,8))\r\n",
    "plt.plot(validation_dates[63:], validation_env.portfolio_value_hist)\r\n",
    "plt.xticks(rotation=45)\r\n",
    "plt.title(f'Agent performance on validation set after {EPOCHS} training epochs.')\r\n",
    "plt.show()\r\n",
    "print('Initial value of portfolio: ',validation_env.portfolio_value_hist[0].numpy())\r\n",
    "print('Final value of portfolio: ',validation_env.portfolio_value_hist[-1].numpy())\r\n",
    "print('Maximum value of portfolio: ',max(validation_env.portfolio_value_hist).numpy())\r\n",
    "print('Minimum value of portfolio: ',min(validation_env.portfolio_value_hist).numpy())"
   ]
  },
  {
   "cell_type": "code",
   "execution_count": 11,
   "metadata": {},
   "outputs": [],
   "source": [
    "with open('dpm_agent.dill','wb') as dill_file:\r\n",
    "    dill.dump(agent, dill_file)"
   ]
  },
  {
   "cell_type": "code",
   "execution_count": null,
   "metadata": {},
   "outputs": [],
   "source": []
  }
 ],
 "metadata": {
  "interpreter": {
   "hash": "63fd5069d213b44bf678585dea6b12cceca9941eaf7f819626cde1f2670de90d"
  },
  "kernelspec": {
   "display_name": "Python 3.9.4 64-bit",
   "name": "python3"
  },
  "language_info": {
   "codemirror_mode": {
    "name": "ipython",
    "version": 3
   },
   "file_extension": ".py",
   "mimetype": "text/x-python",
   "name": "python",
   "nbconvert_exporter": "python",
   "pygments_lexer": "ipython3",
   "version": "3.9.4"
  }
 },
 "nbformat": 4,
 "nbformat_minor": 2
}