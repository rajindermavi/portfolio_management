{
 "cells": [
  {
   "cell_type": "code",
   "execution_count": 1,
   "source": [
    "from agents import DPM_Agent, agent_loss, sampled_agent_reward\r\n",
    "from trading_env.environment import TradingEnv"
   ],
   "outputs": [],
   "metadata": {}
  },
  {
   "cell_type": "code",
   "execution_count": 2,
   "source": [
    "import dill\r\n",
    "import random\r\n",
    "from tqdm import tqdm\r\n",
    "import pandas as pd\r\n",
    "import numpy as np\r\n",
    "import tensorflow as tf\r\n",
    "import seaborn as sns\r\n",
    "import matplotlib.pyplot as plt\r\n",
    "from IPython.display import display, clear_output"
   ],
   "outputs": [],
   "metadata": {}
  },
  {
   "cell_type": "code",
   "execution_count": 3,
   "source": [
    "yf_file = \"./data/archive_data/yf_data.dill\"\r\n",
    "with open(yf_file,'rb') as dill_file:\r\n",
    "    yf_df = dill.load(dill_file)\r\n",
    "    "
   ],
   "outputs": [],
   "metadata": {}
  },
  {
   "cell_type": "code",
   "execution_count": 4,
   "source": [
    "print('Head of data set:')\r\n",
    "yf_df.head()"
   ],
   "outputs": [
    {
     "output_type": "stream",
     "name": "stdout",
     "text": [
      "Head of data set:\n"
     ]
    },
    {
     "output_type": "execute_result",
     "data": {
      "text/plain": [
       "        Date Symbol      high       low      open    close   volume   adjclose\n",
       "0 2000-01-03    MMM  48.25000  47.03125  48.03125  47.1875  2173400  27.387001\n",
       "1 2000-01-04    MMM  47.40625  45.31250  46.43750  45.3125  2713800  26.298779\n",
       "2 2000-01-05    MMM  48.12500  45.56250  45.56250  46.6250  3699400  27.060537\n",
       "3 2000-01-06    MMM  51.25000  47.15625  47.15625  50.3750  5975800  29.236986\n",
       "4 2000-01-07    MMM  51.90625  49.96875  50.56250  51.3750  4101200  29.817362"
      ],
      "text/html": [
       "<div>\n",
       "<style scoped>\n",
       "    .dataframe tbody tr th:only-of-type {\n",
       "        vertical-align: middle;\n",
       "    }\n",
       "\n",
       "    .dataframe tbody tr th {\n",
       "        vertical-align: top;\n",
       "    }\n",
       "\n",
       "    .dataframe thead th {\n",
       "        text-align: right;\n",
       "    }\n",
       "</style>\n",
       "<table border=\"1\" class=\"dataframe\">\n",
       "  <thead>\n",
       "    <tr style=\"text-align: right;\">\n",
       "      <th></th>\n",
       "      <th>Date</th>\n",
       "      <th>Symbol</th>\n",
       "      <th>high</th>\n",
       "      <th>low</th>\n",
       "      <th>open</th>\n",
       "      <th>close</th>\n",
       "      <th>volume</th>\n",
       "      <th>adjclose</th>\n",
       "    </tr>\n",
       "  </thead>\n",
       "  <tbody>\n",
       "    <tr>\n",
       "      <th>0</th>\n",
       "      <td>2000-01-03</td>\n",
       "      <td>MMM</td>\n",
       "      <td>48.25000</td>\n",
       "      <td>47.03125</td>\n",
       "      <td>48.03125</td>\n",
       "      <td>47.1875</td>\n",
       "      <td>2173400</td>\n",
       "      <td>27.387001</td>\n",
       "    </tr>\n",
       "    <tr>\n",
       "      <th>1</th>\n",
       "      <td>2000-01-04</td>\n",
       "      <td>MMM</td>\n",
       "      <td>47.40625</td>\n",
       "      <td>45.31250</td>\n",
       "      <td>46.43750</td>\n",
       "      <td>45.3125</td>\n",
       "      <td>2713800</td>\n",
       "      <td>26.298779</td>\n",
       "    </tr>\n",
       "    <tr>\n",
       "      <th>2</th>\n",
       "      <td>2000-01-05</td>\n",
       "      <td>MMM</td>\n",
       "      <td>48.12500</td>\n",
       "      <td>45.56250</td>\n",
       "      <td>45.56250</td>\n",
       "      <td>46.6250</td>\n",
       "      <td>3699400</td>\n",
       "      <td>27.060537</td>\n",
       "    </tr>\n",
       "    <tr>\n",
       "      <th>3</th>\n",
       "      <td>2000-01-06</td>\n",
       "      <td>MMM</td>\n",
       "      <td>51.25000</td>\n",
       "      <td>47.15625</td>\n",
       "      <td>47.15625</td>\n",
       "      <td>50.3750</td>\n",
       "      <td>5975800</td>\n",
       "      <td>29.236986</td>\n",
       "    </tr>\n",
       "    <tr>\n",
       "      <th>4</th>\n",
       "      <td>2000-01-07</td>\n",
       "      <td>MMM</td>\n",
       "      <td>51.90625</td>\n",
       "      <td>49.96875</td>\n",
       "      <td>50.56250</td>\n",
       "      <td>51.3750</td>\n",
       "      <td>4101200</td>\n",
       "      <td>29.817362</td>\n",
       "    </tr>\n",
       "  </tbody>\n",
       "</table>\n",
       "</div>"
      ]
     },
     "metadata": {},
     "execution_count": 4
    }
   ],
   "metadata": {}
  },
  {
   "cell_type": "code",
   "execution_count": 5,
   "source": [
    "print('Tail of data set:')\r\n",
    "yf_df.tail()"
   ],
   "outputs": [
    {
     "output_type": "stream",
     "name": "stdout",
     "text": [
      "Tail of data set:\n"
     ]
    },
    {
     "output_type": "execute_result",
     "data": {
      "text/plain": [
       "             Date Symbol        high         low        open       close  \\\n",
       "861287 2020-12-24    YUM  107.690002  106.940002  107.220001  107.540001   \n",
       "861288 2020-12-28    YUM  109.849998  107.379997  108.489998  109.779999   \n",
       "861289 2020-12-29    YUM  110.559998  109.400002  109.629997  109.449997   \n",
       "861290 2020-12-30    YUM  110.660004  109.330002  109.349998  109.510002   \n",
       "861291 2020-12-31    YUM  109.180000  107.379997  108.739998  108.559998   \n",
       "\n",
       "         volume    adjclose  \n",
       "861287   340400  106.582886  \n",
       "861288  1822900  108.802956  \n",
       "861289  1818300  108.475891  \n",
       "861290  1267900  108.535355  \n",
       "861291  1651700  107.593803  "
      ],
      "text/html": [
       "<div>\n",
       "<style scoped>\n",
       "    .dataframe tbody tr th:only-of-type {\n",
       "        vertical-align: middle;\n",
       "    }\n",
       "\n",
       "    .dataframe tbody tr th {\n",
       "        vertical-align: top;\n",
       "    }\n",
       "\n",
       "    .dataframe thead th {\n",
       "        text-align: right;\n",
       "    }\n",
       "</style>\n",
       "<table border=\"1\" class=\"dataframe\">\n",
       "  <thead>\n",
       "    <tr style=\"text-align: right;\">\n",
       "      <th></th>\n",
       "      <th>Date</th>\n",
       "      <th>Symbol</th>\n",
       "      <th>high</th>\n",
       "      <th>low</th>\n",
       "      <th>open</th>\n",
       "      <th>close</th>\n",
       "      <th>volume</th>\n",
       "      <th>adjclose</th>\n",
       "    </tr>\n",
       "  </thead>\n",
       "  <tbody>\n",
       "    <tr>\n",
       "      <th>861287</th>\n",
       "      <td>2020-12-24</td>\n",
       "      <td>YUM</td>\n",
       "      <td>107.690002</td>\n",
       "      <td>106.940002</td>\n",
       "      <td>107.220001</td>\n",
       "      <td>107.540001</td>\n",
       "      <td>340400</td>\n",
       "      <td>106.582886</td>\n",
       "    </tr>\n",
       "    <tr>\n",
       "      <th>861288</th>\n",
       "      <td>2020-12-28</td>\n",
       "      <td>YUM</td>\n",
       "      <td>109.849998</td>\n",
       "      <td>107.379997</td>\n",
       "      <td>108.489998</td>\n",
       "      <td>109.779999</td>\n",
       "      <td>1822900</td>\n",
       "      <td>108.802956</td>\n",
       "    </tr>\n",
       "    <tr>\n",
       "      <th>861289</th>\n",
       "      <td>2020-12-29</td>\n",
       "      <td>YUM</td>\n",
       "      <td>110.559998</td>\n",
       "      <td>109.400002</td>\n",
       "      <td>109.629997</td>\n",
       "      <td>109.449997</td>\n",
       "      <td>1818300</td>\n",
       "      <td>108.475891</td>\n",
       "    </tr>\n",
       "    <tr>\n",
       "      <th>861290</th>\n",
       "      <td>2020-12-30</td>\n",
       "      <td>YUM</td>\n",
       "      <td>110.660004</td>\n",
       "      <td>109.330002</td>\n",
       "      <td>109.349998</td>\n",
       "      <td>109.510002</td>\n",
       "      <td>1267900</td>\n",
       "      <td>108.535355</td>\n",
       "    </tr>\n",
       "    <tr>\n",
       "      <th>861291</th>\n",
       "      <td>2020-12-31</td>\n",
       "      <td>YUM</td>\n",
       "      <td>109.180000</td>\n",
       "      <td>107.379997</td>\n",
       "      <td>108.739998</td>\n",
       "      <td>108.559998</td>\n",
       "      <td>1651700</td>\n",
       "      <td>107.593803</td>\n",
       "    </tr>\n",
       "  </tbody>\n",
       "</table>\n",
       "</div>"
      ]
     },
     "metadata": {},
     "execution_count": 5
    }
   ],
   "metadata": {}
  },
  {
   "cell_type": "markdown",
   "source": [
    "Each line of the dataframe contains the values of a single symbol for a single day. "
   ],
   "metadata": {}
  },
  {
   "cell_type": "code",
   "execution_count": 6,
   "source": [
    "# Generate array of symbols in the yf dataframe\r\n",
    "symbols = yf_df['Symbol'].unique()\r\n",
    "\r\n",
    "# Create list of dataframes for each symbol\r\n",
    "print(symbols)"
   ],
   "outputs": [
    {
     "output_type": "stream",
     "name": "stdout",
     "text": [
      "['MMM' 'ABT' 'ADBE' 'AES' 'AFL' 'APD' 'ALL' 'MO' 'AEE' 'AEP' 'AXP' 'AIG'\n",
      " 'AMGN' 'ADI' 'AON' 'APA' 'AAPL' 'AMAT' 'ADM' 'T' 'ADSK' 'ADP' 'AZO' 'AVY'\n",
      " 'BLL' 'BAC' 'BBWI' 'BAX' 'BDX' 'BBY' 'BK' 'BA' 'BSX' 'BMY' 'CPB' 'COF'\n",
      " 'CAH' 'CCL' 'CAT' 'CNP' 'SCHW' 'CVX' 'CI' 'CINF' 'CSCO' 'C' 'CTXS' 'CLX'\n",
      " 'CMS' 'KO' 'CL' 'CMA' 'CAG' 'COP' 'COST' 'CSX' 'CMI' 'CVS' 'DE' 'DOV'\n",
      " 'DTE' 'DUK' 'EMN' 'ECL' 'EIX' 'EMR' 'ETR' 'EFX' 'EXC' 'XOM' 'FDX' 'F'\n",
      " 'GPS' 'GD' 'GIS' 'GPC' 'GL' 'GWW' 'HAL' 'HIG' 'HAS' 'HSY' 'HES' 'HD'\n",
      " 'HON' 'HWM' 'HPQ' 'ITW' 'INTC' 'IBM' 'IP' 'IPG' 'IFF' 'JNJ' 'JPM' 'K'\n",
      " 'KEY' 'KMB' 'KR' 'LEG' 'LLY' 'LNC' 'LIN' 'LMT' 'LOW' 'LUMN' 'MRO' 'MMC'\n",
      " 'MAS' 'MCD' 'MDT' 'MRK' 'MU' 'MSFT' 'TAP' 'NTAP' 'NWL' 'NEM' 'NEE' 'NKE'\n",
      " 'NSC' 'NOC' 'NUE' 'OXY' 'ORCL' 'PCAR' 'PH' 'PEP' 'PKI' 'PFE' 'PNC' 'PPG'\n",
      " 'PG' 'PGR' 'PEG' 'PHM' 'RF' 'SLB' 'SEE' 'SHW' 'SNA' 'SO' 'LUV' 'SWK'\n",
      " 'SYY' 'TGT' 'TXT' 'TJX' 'TFC' 'UNP' 'UNH' 'UNM' 'VZ' 'VFC' 'VMC' 'WMT'\n",
      " 'WBA' 'DIS' 'WFC' 'WMB' 'XEL' 'XLNX' 'YUM']\n"
     ]
    }
   ],
   "metadata": {}
  },
  {
   "cell_type": "code",
   "execution_count": 7,
   "source": [
    "print(f'We have collected data from {len(symbols)} stocks in the SP 500 from the year 2011 to 2020.')"
   ],
   "outputs": [
    {
     "output_type": "stream",
     "name": "stdout",
     "text": [
      "We have collected data from 163 stocks in the SP 500 from the year 2011 to 2020.\n"
     ]
    }
   ],
   "metadata": {}
  },
  {
   "cell_type": "markdown",
   "source": [
    "## Split data into training, validation, and test sets\r\n",
    "\r\n",
    "### Limit symbols to best and worst performing stocks on the training date range\r\n",
    "\r\n",
    "Increase NUM_STOCKS variable to scale up training on more data ... this will make training longer!"
   ],
   "metadata": {}
  },
  {
   "cell_type": "code",
   "execution_count": 8,
   "source": [
    "# Find the endpoint data as Symbol vs Date dataframe\r\n",
    "\r\n",
    "training_start = '2000-1-03'\r\n",
    "training_end = '2018-12-31'\r\n",
    "NUM_STOCKS = 16\r\n",
    "\r\n",
    "endpoint_data = yf_df.loc[ (yf_df['Date'] == training_start) | (yf_df['Date'] == training_end) ]\r\n",
    "\r\n",
    "endpoint_prices = endpoint_data.pivot_table(index = ['Symbol'],columns = ['Date'], values = 'close')\r\n",
    "# Divide endpoint prices to find overall ratio of stock price increase\r\n",
    "price_change = endpoint_prices[training_end]/endpoint_prices[training_start]\r\n",
    "# Order the stocks by ratio of stock prices.\r\n",
    "price_change.sort_values(ascending=False ,inplace=True)\r\n",
    "# Get top symbols\r\n",
    "symbols = list(price_change[:NUM_STOCKS//2].index) + list(price_change[-NUM_STOCKS//2:].index)"
   ],
   "outputs": [],
   "metadata": {}
  },
  {
   "cell_type": "code",
   "execution_count": 9,
   "source": [
    "np.array(symbols) "
   ],
   "outputs": [
    {
     "output_type": "execute_result",
     "data": {
      "text/plain": [
       "array(['AAPL', 'UNH', 'AZO', 'SHW', 'BLL', 'TJX', 'ADSK', 'ADBE', 'GPS',\n",
       "       'AES', 'IPG', 'LUMN', 'F', 'HWM', 'C', 'AIG'], dtype='<U4')"
      ]
     },
     "metadata": {},
     "execution_count": 9
    }
   ],
   "metadata": {}
  },
  {
   "cell_type": "code",
   "execution_count": 10,
   "source": [
    "# Create date masks to partition data \r\n",
    "training_mask = (yf_df['Date'] >= training_start) & (yf_df['Date'] <= training_end) \r\n",
    "validation_start = '2019-1-1'\r\n",
    "validation_end = '2019-12-31'\r\n",
    "validation_mask = (yf_df['Date'] >= validation_start) & (yf_df['Date'] <= validation_end) \r\n",
    "test_start = '2020-1-1'\r\n",
    "test_end = '2020-12-31'\r\n",
    "test_mask = (yf_df['Date'] >= test_start) & (yf_df['Date'] <= test_end)\r\n",
    "\r\n",
    "# Select stock data for each symbol,\r\n",
    "# partition into training, validation, or test set\r\n",
    "training_data = [yf_df[(yf_df['Symbol'] == symbol) & training_mask] for symbol in symbols]\r\n",
    "validation_data = [yf_df[(yf_df['Symbol'] == symbol) & validation_mask] for symbol in symbols]\r\n",
    "test_data = [yf_df[(yf_df['Symbol'] == symbol) & test_mask] for symbol in symbols]\r\n",
    "  \r\n",
    "validation_dates = validation_data[0]['Date']\r\n",
    "test_dates = test_data[0]['Date']\r\n",
    "\r\n",
    "# Select only high, low, open, and close prices for each stock\r\n",
    "training_data = np.array([df.iloc[:,2:6].to_numpy() for df in training_data])\r\n",
    "validation_data = np.array([df.iloc[:,2:6].to_numpy() for df in validation_data])\r\n",
    "test_data = np.array([df.iloc[:,2:6].to_numpy() for df in test_data])\r\n",
    "\r\n",
    "# Save the test data for post traning\r\n",
    "with open('test_data.dill','wb') as dill_file:\r\n",
    "    dill.dump({'dates':test_dates,'data':test_data},dill_file)"
   ],
   "outputs": [],
   "metadata": {}
  },
  {
   "cell_type": "code",
   "execution_count": 11,
   "source": [
    "training_data.shape"
   ],
   "outputs": [
    {
     "output_type": "execute_result",
     "data": {
      "text/plain": [
       "(16, 4779, 4)"
      ]
     },
     "metadata": {},
     "execution_count": 11
    }
   ],
   "metadata": {}
  },
  {
   "cell_type": "markdown",
   "source": [
    "Observe we have 16 stocks with 4 features each (high,low,open,close) over 4779 trading days."
   ],
   "metadata": {}
  },
  {
   "cell_type": "markdown",
   "source": [
    "## Batch the data\n",
    "\n",
    "The training data covers 19 years of trading -- begining of 2000 to the end of 2018. We will partition the trading data into 40 batches. Note there are approximately 253 trading days per year, so there are approximately 253*19/40 ~ 120 trading days per batch. The batches provide data for each training episode for the agent. The agent does not trade over the first 64 days (the agent uses intial data to inform trading) so each training episode contains ~ 56 steps."
   ],
   "metadata": {}
  },
  {
   "cell_type": "code",
   "execution_count": 12,
   "source": [
    "# Batch the data\r\n",
    "n_batches = 50\r\n",
    "data_len = training_data.shape[1]\r\n",
    "div = list(map(int,np.linspace(0,data_len,n_batches+1)))\r\n",
    "batched_training_data = np.split(training_data,div[1:-1],axis=1)\r\n"
   ],
   "outputs": [],
   "metadata": {}
  },
  {
   "cell_type": "code",
   "execution_count": 13,
   "source": [
    "# Create environment\r\n",
    "validation_env = TradingEnv(validation_data) \r\n",
    "start_idx = validation_env._start_tick\r\n",
    "n_stocks = validation_env.n_stocks\r\n",
    "# Create DPM agent\r\n",
    "agent = DPM_Agent()"
   ],
   "outputs": [],
   "metadata": {}
  },
  {
   "cell_type": "markdown",
   "source": [
    "## Untrained agent\r\n",
    "\r\n",
    "Without training the agent is selecting a portfolio at random (actually the randomly initialized parameters are selecting a portfolio). We will view its performance on the validation set."
   ],
   "metadata": {}
  },
  {
   "cell_type": "code",
   "execution_count": 14,
   "source": [
    "SAMPLES = 50\r\n",
    "STOCKS = 8\r\n",
    "\r\n",
    "def calculate_agent_stats(Env,data,agent,stocks,samples):\r\n",
    "    sar = sampled_agent_reward(Env,data,[agent],stocks,samples)\r\n",
    "    \r\n",
    "    m = np.mean(sar[agent.name])\r\n",
    "    s = np.std(sar[agent.name])\r\n",
    "    L = m - 1.96 * (s / np.sqrt(SAMPLES)) \r\n",
    "    H = m + 1.96 * (s / np.sqrt(SAMPLES)) \r\n",
    "    q1 = np.percentile(sar[agent.name],25)\r\n",
    "    q3 = np.percentile(sar[agent.name],75)\r\n",
    "\r\n",
    "    print(f\"Mean return: {m:.4f}.\")\r\n",
    "    print(f\"Standard deviation: {s:.4f}.\")\r\n",
    "    print(f\"95% confidence interval: [{L:.4f},{H:.4f}].\")\r\n",
    "    print(f\"First quartile: {q1:.4f}, Third quartile: {q3:.4f}.\")\r\n",
    "    return sar\r\n",
    "\r\n",
    "sar = calculate_agent_stats(TradingEnv,validation_data,agent,STOCKS,SAMPLES)\r\n",
    "plt.hist(sar[agent.name])\r\n",
    "plt.title(\"Sample agent returns without training.\")\r\n",
    "plt.show()\r\n",
    "\r\n"
   ],
   "outputs": [],
   "metadata": {}
  },
  {
   "cell_type": "code",
   "execution_count": null,
   "source": [
    "# Simulate untrained agent to view baseline\r\n",
    "loss = agent_loss(validation_env,agent)\r\n",
    "plt.figure(figsize=(8,8))\r\n",
    "plt.plot(validation_dates[start_idx:], validation_env.portfolio_value_hist)\r\n",
    "plt.xticks(rotation=45)\r\n",
    "plt.title('Agent performance on validation set without training.')\r\n",
    "plt.show()\r\n",
    "portfolio_vals = validation_env.portfolio_value_hist\r\n",
    "print('Initial value of portfolio: ',portfolio_vals[0].numpy())\r\n",
    "print('Final value of portfolio: ', portfolio_vals[-1].numpy())\r\n",
    "print('Maximum value of portfolio: ',max(portfolio_vals).numpy())\r\n",
    "print('Minimum value of portfolio: ',min(portfolio_vals).numpy())"
   ],
   "outputs": [],
   "metadata": {}
  },
  {
   "cell_type": "markdown",
   "source": [
    "## Agent training"
   ],
   "metadata": {}
  },
  {
   "cell_type": "code",
   "execution_count": null,
   "source": [
    "TRADING_DAYS_PER_YEAR = 253\r\n",
    "\r\n",
    "def train_step(agent,batch):\r\n",
    "    \"\"\"Runs a model training step.\"\"\"\r\n",
    "    env = TradingEnv(batch,train_noise=0)\r\n",
    " \r\n",
    "    with tf.GradientTape() as tape:\r\n",
    "        tape.watch(agent.model.trainable_variables)\r\n",
    "        loss = agent_loss(env,agent,dsct = 0.99)\r\n",
    "\r\n",
    "        grad = tape.gradient(loss,agent.model.trainable_variables)\r\n",
    "    \r\n",
    "    grad = [g / tf.reduce_mean(tf.abs(g)) for g in grad]\r\n",
    "    agent.opt.apply_gradients(zip(grad,agent.model.trainable_variables))\r\n",
    "\r\n",
    "    reward = -TRADING_DAYS_PER_YEAR * loss/(env._end_tick-env._start_tick)\r\n",
    "\r\n",
    "    return reward\r\n"
   ],
   "outputs": [],
   "metadata": {}
  },
  {
   "cell_type": "code",
   "execution_count": null,
   "source": [
    "def Callback_EarlyStopping(RewardsList, min_delta=0, patience=30):\r\n",
    "    \r\n",
    "    if RewardsList[-1] != RewardsList[-1]:\r\n",
    "        print('NAN error')\r\n",
    "        return True   \r\n",
    "\r\n",
    "\r\n",
    "    #No early stopping for 3*patience epochs \r\n",
    "    if len(RewardsList)//patience < 3 :\r\n",
    "        return False\r\n",
    "    #Mean loss for last patience epochs and second-last patience epochs\r\n",
    "    mean_previous = np.mean(RewardsList[::-1][2*patience:3*patience]) #third-last\r\n",
    "    mean_recent = np.mean(RewardsList[::-1][:patience]) #last\r\n",
    "    #you can use relative or absolute change\r\n",
    "    delta = mean_recent - mean_previous # change\r\n",
    "    percent_delta = delta / mean_previous  # relative change\r\n",
    "    if percent_delta < min_delta : \r\n",
    "        print(f\"*CB_ES* Percent change in reward value: {percent_delta*1e2:.4f}\")\r\n",
    "        return True \r\n",
    "    else:\r\n",
    "        return False"
   ],
   "outputs": [],
   "metadata": {}
  },
  {
   "cell_type": "code",
   "execution_count": null,
   "source": [
    "train_avg_rewards = []\r\n",
    "val_avg_rewards = []\r\n",
    "MAX_EPOCHS = 30\r\n",
    "VALIDATION_SAMPLES = 1\r\n",
    "for epoch in tqdm(range(MAX_EPOCHS)):\r\n",
    "    training_rewards = []\r\n",
    "    for batch in batched_training_data:\r\n",
    "\r\n",
    "        reward = train_step(agent,batch)\r\n",
    "        \r\n",
    "        training_rewards.append(reward)\r\n",
    "    \r\n",
    "    train_avg_rewards.append(np.mean(training_rewards))\r\n",
    "\r\n",
    "    sar = sampled_agent_reward(TradingEnv,validation_data,[agent],NUM_STOCKS,VALIDATION_SAMPLES)\r\n",
    "    val_avg_rewards.append(np.mean(sar[agent.name]))\r\n",
    "    \r\n",
    "    clear_output(wait=True)\r\n",
    "    display(f'Epoch: {epoch+1}')\r\n",
    "    display(f'Training return. Current: {train_avg_rewards[-1]:.4f}. Average: {np.mean(train_avg_rewards):.4f}.')\r\n",
    "    display(f'Validation return: {val_avg_rewards[-1]:.4f}. Average: {np.mean(val_avg_rewards):.4f}.')\r\n",
    "\r\n",
    "\r\n",
    "    if Callback_EarlyStopping(val_avg_rewards):\r\n",
    "        break\r\n"
   ],
   "outputs": [],
   "metadata": {}
  },
  {
   "cell_type": "markdown",
   "source": [
    "In the above code, note that a random subset of stocks are selected each epoch for training and validation. The purpose for this is to temper the possibility of overfitting to a single overperforming or underperforming stock. However, as a result the output performance over epochs is noisy. \r\n",
    "\r\n",
    "Due to the noise we will plot a rolling average of the training and validation rewards."
   ],
   "metadata": {}
  },
  {
   "cell_type": "code",
   "execution_count": null,
   "source": [
    "df = pd.DataFrame({'training rewards':train_avg_rewards,'validation rewards':val_avg_rewards})\r\n",
    "\r\n",
    "sns.lineplot( data = df.rolling(5, min_periods=1).mean())\r\n",
    "plt.legend(loc='upper right',bbox_to_anchor=(1.5, 1) )\r\n",
    "plt.title(\"Training and validation returns per epoch\")\r\n",
    "plt.show()"
   ],
   "outputs": [],
   "metadata": {}
  },
  {
   "cell_type": "code",
   "execution_count": null,
   "source": [
    "sar = calculate_agent_stats(TradingEnv,validation_data,agent,STOCKS,SAMPLES)\r\n",
    "plt.hist(sar[agent.name])\r\n",
    "plt.title(\"Sample agent returns after training.\")\r\n",
    "plt.show()"
   ],
   "outputs": [],
   "metadata": {}
  },
  {
   "cell_type": "code",
   "execution_count": null,
   "source": [
    "# Simulate trained agent to view behavior after training\r\n",
    "loss = agent_loss(validation_env,agent)\r\n",
    "plt.figure(figsize=(8,8))\r\n",
    "plt.plot(validation_dates[start_idx:], validation_env.portfolio_value_hist)\r\n",
    "plt.xticks(rotation=45)\r\n",
    "plt.title(f'Agent performance on validation set after {epoch} training epochs.')\r\n",
    "plt.show()\r\n",
    "print('Initial value of portfolio: ',validation_env.portfolio_value_hist[0].numpy())\r\n",
    "print('Final value of portfolio: ',validation_env.portfolio_value_hist[-1].numpy())\r\n",
    "print('Maximum value of portfolio: ',max(validation_env.portfolio_value_hist).numpy())\r\n",
    "print('Minimum value of portfolio: ',min(validation_env.portfolio_value_hist).numpy())"
   ],
   "outputs": [],
   "metadata": {}
  },
  {
   "cell_type": "code",
   "execution_count": null,
   "source": [
    "with open('dpm_agent.dill','wb') as dill_file:\r\n",
    "    dill.dump(agent, dill_file)"
   ],
   "outputs": [],
   "metadata": {}
  },
  {
   "cell_type": "code",
   "execution_count": null,
   "source": [
    "agent.model.summary()"
   ],
   "outputs": [],
   "metadata": {}
  }
 ],
 "metadata": {
  "interpreter": {
   "hash": "f6ecf0f4b7da91ff1ccddb66793d3b78ca4cd194ae4db75acbe588f9b304d562"
  },
  "kernelspec": {
   "name": "python3",
   "display_name": "Python 3.9.4 64-bit ('portfolio': venv)"
  },
  "language_info": {
   "codemirror_mode": {
    "name": "ipython",
    "version": 3
   },
   "file_extension": ".py",
   "mimetype": "text/x-python",
   "name": "python",
   "nbconvert_exporter": "python",
   "pygments_lexer": "ipython3",
   "version": "3.9.4"
  }
 },
 "nbformat": 4,
 "nbformat_minor": 2
}