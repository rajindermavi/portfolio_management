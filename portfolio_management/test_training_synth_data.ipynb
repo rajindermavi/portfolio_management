{
 "cells": [
  {
   "cell_type": "code",
   "execution_count": null,
   "source": [
    "from agents import DPM_Agent, agent_loss, sampled_agent_reward\n",
    "from trading_env.environment import TradingEnv\n",
    "\n",
    "import random\n",
    "import pandas as pd\n",
    "import numpy as np\n",
    "import tensorflow as tf\n",
    "import seaborn as sns\n",
    "import matplotlib.pyplot as plt"
   ],
   "outputs": [],
   "metadata": {}
  },
  {
   "cell_type": "code",
   "execution_count": null,
   "source": [
    "r = np.logspace( -4, -2, 4)\n",
    "\n",
    "rates = np.concatenate((-r,r),axis = 0)\n",
    "data_length = 100\n",
    "time_array = np.linspace(0,data_length-1,data_length)\n",
    "\n",
    "rates_v_time =  np.outer(rates,time_array)\n",
    "\n",
    "data = np.exp(np.stack([rates_v_time,rates_v_time],axis = 2))\n",
    "\n",
    "data.shape"
   ],
   "outputs": [],
   "metadata": {}
  },
  {
   "cell_type": "code",
   "execution_count": null,
   "source": [
    "agent = DPM_Agent()\n",
    "env = TradingEnv(data)"
   ],
   "outputs": [],
   "metadata": {}
  },
  {
   "cell_type": "code",
   "execution_count": null,
   "source": [
    "# Simulate untrained agent to view baseline\n",
    "loss = agent_loss(env,agent)\n",
    "plt.figure(figsize=(8,8))\n",
    "plt.plot(time_array[49:], env.portfolio_value_hist)\n",
    "plt.xticks(rotation=45)\n",
    "plt.title('Agent performance on validation set without training.')\n",
    "plt.show()\n",
    "portfolio_vals = env.portfolio_value_hist\n",
    "print('Initial value of portfolio: ',portfolio_vals[0].numpy())\n",
    "print('Final value of portfolio: ', portfolio_vals[-1].numpy())\n",
    "print('Maximum value of portfolio: ',max(portfolio_vals).numpy())\n",
    "print('Minimum value of portfolio: ',min(portfolio_vals).numpy())"
   ],
   "outputs": [],
   "metadata": {}
  },
  {
   "cell_type": "code",
   "execution_count": null,
   "source": [
    "TRADING_DAYS_PER_YEAR = 253\n",
    "\n",
    "#@tf.function\n",
    "def train_step(agent,batch):\n",
    "    \"\"\"Runs a model training step.\"\"\"\n",
    "    env = TradingEnv(batch,train_noise=0)\n",
    " \n",
    "    with tf.GradientTape() as tape:\n",
    "        tape.watch(agent.model.trainable_variables)\n",
    "        loss = agent_loss(env,agent,dsct = 0.99)\n",
    "\n",
    "        grad = tape.gradient(loss,agent.model.trainable_variables)\n",
    "        grad = [g / tf.reduce_mean(tf.abs(g)) for g in grad]\n",
    "        agent.opt.apply_gradients(zip(grad,agent.model.trainable_variables))\n",
    "\n",
    "    reward = -TRADING_DAYS_PER_YEAR * loss/(env._end_tick-env._start_tick)\n",
    "\n",
    "    return reward"
   ],
   "outputs": [],
   "metadata": {}
  },
  {
   "cell_type": "code",
   "execution_count": null,
   "source": [
    "def Callback_EarlyStopping(RewardsList, min_delta=0, patience=30):\n",
    "    \n",
    "    if RewardsList[-1] != RewardsList[-1]:\n",
    "        print('NAN error')\n",
    "        return True   \n",
    "\n",
    "\n",
    "    #No early stopping for 3*patience epochs \n",
    "    if len(RewardsList)//patience < 3 :\n",
    "        return False\n",
    "    #Mean loss for last patience epochs and second-last patience epochs\n",
    "    mean_previous = np.mean(RewardsList[::-1][2*patience:3*patience]) #third-last\n",
    "    mean_recent = np.mean(RewardsList[::-1][:patience]) #last\n",
    "    #you can use relative or absolute change\n",
    "    delta = mean_recent - mean_previous # change\n",
    "    percent_delta = delta / mean_previous  # relative change\n",
    "    if percent_delta < min_delta : \n",
    "        print(f\"*CB_ES* Percent change in reward value: {percent_delta*1e2:.4f}\")\n",
    "        return True \n",
    "    else:\n",
    "        return False"
   ],
   "outputs": [],
   "metadata": {}
  },
  {
   "cell_type": "code",
   "execution_count": null,
   "source": [
    "train_avg_rewards = []\n",
    "val_avg_rewards = []\n",
    "MAX_EPOCHS = 100\n",
    "n_substocks = 20\n",
    "VALIDATION_SAMPLES = 50\n",
    "for epoch in range(MAX_EPOCHS):\n",
    "    training_rewards = []\n",
    "\n",
    "    reward = train_step(agent,data)\n",
    "        \n",
    "    training_rewards.append(reward)\n",
    "    \n",
    "    train_avg_rewards.append(np.mean(training_rewards))\n",
    "\n",
    "\n",
    "    if Callback_EarlyStopping(train_avg_rewards):\n",
    "        break"
   ],
   "outputs": [],
   "metadata": {}
  },
  {
   "cell_type": "code",
   "execution_count": null,
   "source": [
    "# Simulate trained agent to view behavior after training\n",
    "loss = agent_loss(env,agent)\n",
    "plt.figure(figsize=(8,8))\n",
    "plt.plot(time_array[49:], env.portfolio_value_hist)\n",
    "plt.xticks(rotation=45)\n",
    "plt.title(f'Agent performance on validation set after {epoch} training epochs.')\n",
    "plt.show()\n",
    "print('Initial value of portfolio: ',env.portfolio_value_hist[0].numpy())\n",
    "print('Final value of portfolio: ',env.portfolio_value_hist[-1].numpy())\n",
    "print('Maximum value of portfolio: ',max(env.portfolio_value_hist).numpy())\n",
    "print('Minimum value of portfolio: ',min(env.portfolio_value_hist).numpy())"
   ],
   "outputs": [],
   "metadata": {}
  }
 ],
 "metadata": {
  "orig_nbformat": 4,
  "language_info": {
   "name": "python",
   "version": "3.9.5",
   "mimetype": "text/x-python",
   "codemirror_mode": {
    "name": "ipython",
    "version": 3
   },
   "pygments_lexer": "ipython3",
   "nbconvert_exporter": "python",
   "file_extension": ".py"
  },
  "kernelspec": {
   "name": "python3",
   "display_name": "Python 3.9.5 64-bit"
  },
  "interpreter": {
   "hash": "31f2aee4e71d21fbe5cf8b01ff0e069b9275f58929596ceb00d14d90e3e16cd6"
  }
 },
 "nbformat": 4,
 "nbformat_minor": 2
}