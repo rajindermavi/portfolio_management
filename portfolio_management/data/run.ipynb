{
 "cells": [
  {
   "cell_type": "code",
   "execution_count": 1,
   "metadata": {},
   "outputs": [
    {
     "name": "stdout",
     "output_type": "stream",
     "text": [
      "Loading configuration files.\n",
      "Creating archives.\n",
      "Getting Yahoo Financial data.\n"
     ]
    }
   ],
   "source": [
    "%run get_archive.py"
   ]
  },
  {
   "cell_type": "code",
   "execution_count": null,
   "metadata": {},
   "outputs": [],
   "source": []
  }
 ],
 "metadata": {
  "interpreter": {
   "hash": "f6ecf0f4b7da91ff1ccddb66793d3b78ca4cd194ae4db75acbe588f9b304d562"
  },
  "kernelspec": {
   "display_name": "Python 3.9.4 64-bit ('portfolio': venv)",
   "name": "python3"
  },
  "language_info": {
   "codemirror_mode": {
    "name": "ipython",
    "version": 3
   },
   "file_extension": ".py",
   "mimetype": "text/x-python",
   "name": "python",
   "nbconvert_exporter": "python",
   "pygments_lexer": "ipython3",
   "version": "3.9.4"
  }
 },
 "nbformat": 4,
 "nbformat_minor": 4
}