{
 "cells": [
  {
   "cell_type": "code",
   "execution_count": 1,
   "metadata": {},
   "outputs": [
    {
     "output_type": "stream",
     "name": "stdout",
     "text": [
      "Loading configuration files.\n",
      "Creating archives.\n",
      "Getting FRED data.\n",
      "Getting Yahoo Financial data.\n",
      "Getting New York Times data.\n"
     ]
    }
   ],
   "source": [
    "%run get_archive.py"
   ]
  },
  {
   "cell_type": "code",
   "execution_count": 2,
   "metadata": {},
   "outputs": [
    {
     "output_type": "execute_result",
     "data": {
      "text/plain": [
       "           Date Symbol        high         low        open       close  \\\n",
       "0    2000-01-03    WMT   69.000000   65.500000   68.375000   66.812500   \n",
       "1    2000-01-04    WMT   65.812500   64.187500   65.500000   64.312500   \n",
       "2    2000-01-05    WMT   64.375000   62.187500   63.875000   63.000000   \n",
       "3    2000-01-06    WMT   64.562500   62.687500   63.000000   63.687500   \n",
       "4    2000-01-07    WMT   68.937500   64.500000   64.500000   68.500000   \n",
       "...         ...    ...         ...         ...         ...         ...   \n",
       "5279 2020-12-24    WMT  144.389999  143.179993  143.539993  143.500000   \n",
       "5280 2020-12-28    WMT  145.300003  143.330002  144.039993  145.220001   \n",
       "5281 2020-12-29    WMT  145.850006  143.589996  145.639999  144.300003   \n",
       "5282 2020-12-30    WMT  145.149994  143.940002  144.880005  144.179993   \n",
       "5283 2020-12-31    WMT  144.270004  142.850006  144.199997  144.149994   \n",
       "\n",
       "       volume    adjclose  dividend  \n",
       "0     8369900   45.262192       0.0  \n",
       "1     6745100   43.568573       0.0  \n",
       "2     7018700   42.679428       0.0  \n",
       "3     6544500   43.145149       0.0  \n",
       "4     7976900   46.405392       0.0  \n",
       "...       ...         ...       ...  \n",
       "5279  3018200  142.344345       0.0  \n",
       "5280  6448300  144.050491       0.0  \n",
       "5281  5979400  143.137909       0.0  \n",
       "5282  6250400  143.018860       0.0  \n",
       "5283  5938000  142.989090       0.0  \n",
       "\n",
       "[5284 rows x 9 columns]"
      ],
      "text/html": "<div>\n<style scoped>\n    .dataframe tbody tr th:only-of-type {\n        vertical-align: middle;\n    }\n\n    .dataframe tbody tr th {\n        vertical-align: top;\n    }\n\n    .dataframe thead th {\n        text-align: right;\n    }\n</style>\n<table border=\"1\" class=\"dataframe\">\n  <thead>\n    <tr style=\"text-align: right;\">\n      <th></th>\n      <th>Date</th>\n      <th>Symbol</th>\n      <th>high</th>\n      <th>low</th>\n      <th>open</th>\n      <th>close</th>\n      <th>volume</th>\n      <th>adjclose</th>\n      <th>dividend</th>\n    </tr>\n  </thead>\n  <tbody>\n    <tr>\n      <th>0</th>\n      <td>2000-01-03</td>\n      <td>WMT</td>\n      <td>69.000000</td>\n      <td>65.500000</td>\n      <td>68.375000</td>\n      <td>66.812500</td>\n      <td>8369900</td>\n      <td>45.262192</td>\n      <td>0.0</td>\n    </tr>\n    <tr>\n      <th>1</th>\n      <td>2000-01-04</td>\n      <td>WMT</td>\n      <td>65.812500</td>\n      <td>64.187500</td>\n      <td>65.500000</td>\n      <td>64.312500</td>\n      <td>6745100</td>\n      <td>43.568573</td>\n      <td>0.0</td>\n    </tr>\n    <tr>\n      <th>2</th>\n      <td>2000-01-05</td>\n      <td>WMT</td>\n      <td>64.375000</td>\n      <td>62.187500</td>\n      <td>63.875000</td>\n      <td>63.000000</td>\n      <td>7018700</td>\n      <td>42.679428</td>\n      <td>0.0</td>\n    </tr>\n    <tr>\n      <th>3</th>\n      <td>2000-01-06</td>\n      <td>WMT</td>\n      <td>64.562500</td>\n      <td>62.687500</td>\n      <td>63.000000</td>\n      <td>63.687500</td>\n      <td>6544500</td>\n      <td>43.145149</td>\n      <td>0.0</td>\n    </tr>\n    <tr>\n      <th>4</th>\n      <td>2000-01-07</td>\n      <td>WMT</td>\n      <td>68.937500</td>\n      <td>64.500000</td>\n      <td>64.500000</td>\n      <td>68.500000</td>\n      <td>7976900</td>\n      <td>46.405392</td>\n      <td>0.0</td>\n    </tr>\n    <tr>\n      <th>...</th>\n      <td>...</td>\n      <td>...</td>\n      <td>...</td>\n      <td>...</td>\n      <td>...</td>\n      <td>...</td>\n      <td>...</td>\n      <td>...</td>\n      <td>...</td>\n    </tr>\n    <tr>\n      <th>5279</th>\n      <td>2020-12-24</td>\n      <td>WMT</td>\n      <td>144.389999</td>\n      <td>143.179993</td>\n      <td>143.539993</td>\n      <td>143.500000</td>\n      <td>3018200</td>\n      <td>142.344345</td>\n      <td>0.0</td>\n    </tr>\n    <tr>\n      <th>5280</th>\n      <td>2020-12-28</td>\n      <td>WMT</td>\n      <td>145.300003</td>\n      <td>143.330002</td>\n      <td>144.039993</td>\n      <td>145.220001</td>\n      <td>6448300</td>\n      <td>144.050491</td>\n      <td>0.0</td>\n    </tr>\n    <tr>\n      <th>5281</th>\n      <td>2020-12-29</td>\n      <td>WMT</td>\n      <td>145.850006</td>\n      <td>143.589996</td>\n      <td>145.639999</td>\n      <td>144.300003</td>\n      <td>5979400</td>\n      <td>143.137909</td>\n      <td>0.0</td>\n    </tr>\n    <tr>\n      <th>5282</th>\n      <td>2020-12-30</td>\n      <td>WMT</td>\n      <td>145.149994</td>\n      <td>143.940002</td>\n      <td>144.880005</td>\n      <td>144.179993</td>\n      <td>6250400</td>\n      <td>143.018860</td>\n      <td>0.0</td>\n    </tr>\n    <tr>\n      <th>5283</th>\n      <td>2020-12-31</td>\n      <td>WMT</td>\n      <td>144.270004</td>\n      <td>142.850006</td>\n      <td>144.199997</td>\n      <td>144.149994</td>\n      <td>5938000</td>\n      <td>142.989090</td>\n      <td>0.0</td>\n    </tr>\n  </tbody>\n</table>\n<p>5284 rows × 9 columns</p>\n</div>"
     },
     "metadata": {},
     "execution_count": 2
    }
   ],
   "source": [
    "archive.yf_data"
   ]
  },
  {
   "cell_type": "code",
   "execution_count": null,
   "metadata": {},
   "outputs": [],
   "source": []
  }
 ],
 "metadata": {
  "kernelspec": {
   "name": "python385jvsc74a57bd03fd04f7af2b494cfcb6f7f88dc7e2e0996fcff442ebb77a6d3107b9d139ab71e",
   "display_name": "Python 3.8.5 64-bit ('base': conda)"
  },
  "language_info": {
   "codemirror_mode": {
    "name": "ipython",
    "version": 3
   },
   "file_extension": ".py",
   "mimetype": "text/x-python",
   "name": "python",
   "nbconvert_exporter": "python",
   "pygments_lexer": "ipython3",
   "version": "3.8.5"
  }
 },
 "nbformat": 4,
 "nbformat_minor": 4
}