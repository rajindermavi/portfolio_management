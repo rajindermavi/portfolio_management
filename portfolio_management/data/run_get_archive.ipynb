{
 "cells": [
  {
   "cell_type": "code",
   "execution_count": 1,
   "source": [
    "%run get_archive.py"
   ],
   "outputs": [
    {
     "output_type": "stream",
     "name": "stdout",
     "text": [
      "Loading configuration files.\n",
      "Creating archive.\n",
      "Getting Yahoo Financial data.\n",
      "Saving yahoo finance archive at ./archive_data\\yf_data.dill.\n",
      "['MMM' 'ABT' 'ADBE' 'AES' 'AFL' 'APD' 'ALL' 'MO' 'AEE' 'AEP' 'AXP' 'AIG'\n",
      " 'AMGN' 'ADI' 'AON' 'APA' 'AAPL' 'AMAT' 'ADM' 'T' 'ADSK' 'ADP' 'AZO' 'AVY'\n",
      " 'BLL' 'BAC' 'BBWI' 'BAX' 'BDX' 'BBY' 'BK' 'BA' 'BSX' 'BMY' 'CPB' 'COF'\n",
      " 'CAH' 'CCL' 'CAT' 'CNP' 'SCHW' 'CVX' 'CI' 'CINF' 'CSCO' 'C' 'CTXS' 'CLX'\n",
      " 'CMS' 'KO' 'CL' 'CMA' 'CAG' 'COP' 'COST' 'CSX' 'CMI' 'CVS' 'DE' 'DOV'\n",
      " 'DTE' 'DUK' 'EMN' 'ECL' 'EIX' 'EMR' 'ETR' 'EFX' 'EXC' 'XOM' 'FDX' 'F'\n",
      " 'GPS' 'GD' 'GIS' 'GPC' 'GL' 'GWW' 'HAL' 'HIG' 'HAS' 'HSY' 'HES' 'HD'\n",
      " 'HON' 'HWM' 'HPQ' 'ITW' 'INTC' 'IBM' 'IP' 'IPG' 'IFF' 'JNJ' 'JPM' 'K'\n",
      " 'KEY' 'KMB' 'KR' 'LEG' 'LLY' 'LNC' 'LIN' 'LMT' 'LOW' 'LUMN' 'MRO' 'MMC'\n",
      " 'MAS' 'MCD' 'MDT' 'MRK' 'MU' 'MSFT' 'TAP' 'NTAP' 'NWL' 'NEM' 'NEE' 'NKE'\n",
      " 'NSC' 'NOC' 'NUE' 'OXY' 'ORCL' 'PCAR' 'PH' 'PEP' 'PKI' 'PFE' 'PNC' 'PPG'\n",
      " 'PG' 'PGR' 'PEG' 'PHM' 'RF' 'SLB' 'SEE' 'SHW' 'SNA' 'SO' 'LUV' 'SWK'\n",
      " 'SYY' 'TGT' 'TXT' 'TJX' 'TFC' 'UNP' 'UNH' 'UNM' 'VZ' 'VFC' 'VMC' 'WMT'\n",
      " 'WBA' 'DIS' 'WFC' 'WMB' 'XEL' 'XLNX' 'YUM']\n",
      "Number of symbols: 163\n"
     ]
    }
   ],
   "metadata": {}
  }
 ],
 "metadata": {
  "interpreter": {
   "hash": "f6ecf0f4b7da91ff1ccddb66793d3b78ca4cd194ae4db75acbe588f9b304d562"
  },
  "kernelspec": {
   "name": "python3",
   "display_name": "Python 3.9.4 64-bit ('portfolio': venv)"
  },
  "language_info": {
   "codemirror_mode": {
    "name": "ipython",
    "version": 3
   },
   "file_extension": ".py",
   "mimetype": "text/x-python",
   "name": "python",
   "nbconvert_exporter": "python",
   "pygments_lexer": "ipython3",
   "version": "3.9.4"
  }
 },
 "nbformat": 4,
 "nbformat_minor": 4
}