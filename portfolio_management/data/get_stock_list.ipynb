{
 "cells": [
  {
   "cell_type": "code",
   "execution_count": null,
   "source": [
    "import pandas as pd"
   ],
   "outputs": [],
   "metadata": {}
  },
  {
   "cell_type": "markdown",
   "source": [
    "# Collect symbols for stocks in SP500 since the year 2010"
   ],
   "metadata": {}
  },
  {
   "cell_type": "code",
   "execution_count": null,
   "source": [
    "payload=pd.read_html('https://en.wikipedia.org/wiki/List_of_S%26P_500_companies')\r\n",
    "first_table = payload[0]\r\n",
    "second_table = payload[1]\r\n",
    "\r\n",
    "df = first_table\r\n",
    "df.dropna(how='any',inplace=True)\r\n",
    "df['SP500_Year'] = df['Date first added'].apply(lambda s: int(str(s)[:4]))"
   ],
   "outputs": [],
   "metadata": {}
  },
  {
   "cell_type": "code",
   "execution_count": null,
   "source": [
    "INITIAL_YEAR = 2000\r\n",
    "\r\n",
    "SP500_LIST = list(df[df['SP500_Year'] < INITIAL_YEAR]['Symbol'].values)\r\n",
    "print(f'There are {len(SP500_LIST)} symbols.')\r\n",
    "print(SP500_LIST)"
   ],
   "outputs": [],
   "metadata": {}
  },
  {
   "cell_type": "markdown",
   "source": [
    "# Save config file for data collection"
   ],
   "metadata": {}
  },
  {
   "cell_type": "code",
   "execution_count": null,
   "source": [
    "yahoo = {}\r\n",
    "yahoo[\"symbols\"] = SP500_LIST\r\n",
    "yahoo[\"start_date\"]=\"2000-01-01\"\r\n",
    "yahoo[\"end_date\"]=\"2022-01-01\"\r\n",
    "yahoo[\"freq\"]=\"daily\""
   ],
   "outputs": [],
   "metadata": {}
  },
  {
   "cell_type": "code",
   "execution_count": null,
   "source": [
    "import json\r\n",
    "with open('yahoo.json', 'w') as y_json:\r\n",
    "    json.dump(yahoo, y_json)"
   ],
   "outputs": [],
   "metadata": {}
  },
  {
   "cell_type": "code",
   "execution_count": null,
   "source": [],
   "outputs": [],
   "metadata": {}
  }
 ],
 "metadata": {
  "orig_nbformat": 4,
  "language_info": {
   "name": "python",
   "version": "3.9.4",
   "mimetype": "text/x-python",
   "codemirror_mode": {
    "name": "ipython",
    "version": 3
   },
   "pygments_lexer": "ipython3",
   "nbconvert_exporter": "python",
   "file_extension": ".py"
  },
  "kernelspec": {
   "name": "python3",
   "display_name": "Python 3.9.4 64-bit ('portfolio': venv)"
  },
  "interpreter": {
   "hash": "f6ecf0f4b7da91ff1ccddb66793d3b78ca4cd194ae4db75acbe588f9b304d562"
  }
 },
 "nbformat": 4,
 "nbformat_minor": 2
}