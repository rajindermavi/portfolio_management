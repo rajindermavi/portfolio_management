{
 "cells": [
  {
   "cell_type": "code",
   "execution_count": 1,
   "source": [
    "import pandas as pd"
   ],
   "outputs": [],
   "metadata": {}
  },
  {
   "cell_type": "markdown",
   "source": [
    "# Collect symbols for stocks in SP500 since the year 2010"
   ],
   "metadata": {}
  },
  {
   "cell_type": "code",
   "execution_count": 2,
   "source": [
    "payload=pd.read_html('https://en.wikipedia.org/wiki/List_of_S%26P_500_companies')\r\n",
    "first_table = payload[0]\r\n",
    "second_table = payload[1]\r\n",
    "\r\n",
    "df = first_table\r\n",
    "df.dropna(how='any',inplace=True)\r\n",
    "df['SP500_Year'] = df['Date first added'].apply(lambda s: int(str(s)[:4]))"
   ],
   "outputs": [],
   "metadata": {}
  },
  {
   "cell_type": "code",
   "execution_count": 3,
   "source": [
    "INITIAL_YEAR = 2000\r\n",
    "\r\n",
    "SP500_LIST = list(df[df['SP500_Year'] < INITIAL_YEAR]['Symbol'].values)\r\n",
    "print(f'There are {len(SP500_LIST)} symbols.')\r\n",
    "print(SP500_LIST)"
   ],
   "outputs": [
    {
     "output_type": "stream",
     "name": "stdout",
     "text": [
      "There are 272 symbols.\n",
      "['MMM', 'ABT', 'ADBE', 'AES', 'AFL', 'A', 'APD', 'AKAM', 'ALL', 'GOOG', 'MO', 'AMZN', 'AEE', 'AEP', 'AXP', 'AIG', 'AMT', 'AMP', 'ABC', 'AMGN', 'APH', 'ADI', 'ANTM', 'AON', 'APA', 'AAPL', 'AMAT', 'ADM', 'AIZ', 'T', 'ADSK', 'ADP', 'AZO', 'AVB', 'AVY', 'BLL', 'BAC', 'BBWI', 'BAX', 'BDX', 'BRK.B', 'BBY', 'BIIB', 'BK', 'BA', 'BKNG', 'BXP', 'BSX', 'BMY', 'BF.B', 'CHRW', 'COG', 'CPB', 'COF', 'CAH', 'KMX', 'CCL', 'CAT', 'CBRE', 'CNP', 'CERN', 'CF', 'SCHW', 'CVX', 'CB', 'CI', 'CINF', 'CTAS', 'CSCO', 'C', 'CTXS', 'CLX', 'CME', 'CMS', 'KO', 'CTSH', 'CL', 'CMCSA', 'CMA', 'CAG', 'COP', 'STZ', 'COST', 'CSX', 'CMI', 'CVS', 'DHI', 'DVA', 'DE', 'XRAY', 'DVN', 'DFS', 'DISCA', 'DOV', 'DTE', 'DUK', 'EMN', 'EBAY', 'ECL', 'EIX', 'EA', 'EMR', 'ETR', 'EOG', 'EFX', 'EQR', 'EL', 'EXC', 'EXPE', 'EXPD', 'XOM', 'FFIV', 'FAST', 'FDX', 'FIS', 'FISV', 'FMC', 'F', 'GPS', 'GD', 'GIS', 'GPC', 'GILD', 'GL', 'GS', 'GWW', 'HAL', 'HIG', 'HAS', 'PEAK', 'HSY', 'HES', 'HD', 'HON', 'HRL', 'HST', 'HWM', 'HPQ', 'ITW', 'INTC', 'ICE', 'IBM', 'IP', 'IPG', 'IFF', 'INTU', 'ISRG', 'IVZ', 'IRM', 'J', 'SJM', 'JNJ', 'JCI', 'JPM', 'JNPR', 'K', 'KEY', 'KMB', 'KIM', 'KR', 'LHX', 'LH', 'LEG', 'LEN', 'LLY', 'LNC', 'LIN', 'LMT', 'LOW', 'LUMN', 'MTB', 'MRO', 'MMC', 'MAS', 'MA', 'MKC', 'MCD', 'MDT', 'MRK', 'MCHP', 'MU', 'MSFT', 'TAP', 'NDAQ', 'NTAP', 'NFLX', 'NWL', 'NEM', 'NEE', 'NKE', 'NSC', 'NOC', 'NLOK', 'NOV', 'NRG', 'NUE', 'NVDA', 'ORLY', 'OXY', 'OKE', 'ORCL', 'PCAR', 'PH', 'PBCT', 'PEP', 'PKI', 'PFE', 'PM', 'PXD', 'PNC', 'PPG', 'PFG', 'PG', 'PGR', 'PLD', 'PRU', 'PEG', 'PSA', 'PHM', 'PWR', 'DGX', 'RL', 'RF', 'RSG', 'RHI', 'ROP', 'ROST', 'CRM', 'SLB', 'SEE', 'SHW', 'SPG', 'SNA', 'SO', 'LUV', 'SWK', 'SYK', 'SYY', 'TGT', 'TXT', 'TMO', 'TJX', 'TT', 'TRV', 'TFC', 'TSN', 'UNP', 'UNH', 'UPS', 'UNM', 'VTR', 'VRSN', 'VZ', 'VFC', 'VTRS', 'V', 'VMC', 'WMT', 'WBA', 'DIS', 'WEC', 'WFC', 'WELL', 'WDC', 'WU', 'WMB', 'WYNN', 'XEL', 'XLNX', 'YUM', 'ZBH', 'ZION']\n"
     ]
    }
   ],
   "metadata": {}
  },
  {
   "cell_type": "markdown",
   "source": [
    "# Save config file for data collection"
   ],
   "metadata": {}
  },
  {
   "cell_type": "code",
   "execution_count": 4,
   "source": [
    "yahoo = {}\r\n",
    "yahoo[\"symbols\"] = SP500_LIST\r\n",
    "yahoo[\"start_date\"]=\"2000-01-01\"\r\n",
    "yahoo[\"end_date\"]=\"2021-01-01\"\r\n",
    "yahoo[\"freq\"]=\"daily\""
   ],
   "outputs": [],
   "metadata": {}
  },
  {
   "cell_type": "code",
   "execution_count": 5,
   "source": [
    "import json\r\n",
    "with open('yahoo.json', 'w') as y_json:\r\n",
    "    json.dump(yahoo, y_json)"
   ],
   "outputs": [],
   "metadata": {}
  },
  {
   "cell_type": "code",
   "execution_count": null,
   "source": [],
   "outputs": [],
   "metadata": {}
  }
 ],
 "metadata": {
  "orig_nbformat": 4,
  "language_info": {
   "name": "python",
   "version": "3.9.4",
   "mimetype": "text/x-python",
   "codemirror_mode": {
    "name": "ipython",
    "version": 3
   },
   "pygments_lexer": "ipython3",
   "nbconvert_exporter": "python",
   "file_extension": ".py"
  },
  "kernelspec": {
   "name": "python3",
   "display_name": "Python 3.9.4 64-bit ('portfolio': venv)"
  },
  "interpreter": {
   "hash": "f6ecf0f4b7da91ff1ccddb66793d3b78ca4cd194ae4db75acbe588f9b304d562"
  }
 },
 "nbformat": 4,
 "nbformat_minor": 2
}